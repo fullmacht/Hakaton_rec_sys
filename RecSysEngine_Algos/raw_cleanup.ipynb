{
 "cells": [
  {
   "cell_type": "code",
   "execution_count": 1,
   "metadata": {},
   "outputs": [],
   "source": [
    "# Assumption regarding input and output data\n",
    "# expecting to get numerous csv-files rom different sources with user_id as a merging key\n",
    "# encoding is expected to be cp1251\n",
    "# desired df structure (one merged file)\n",
    "# user_id    item_id    signals(implicit data)    date    meta_data => (age, gender)   ....\n",
    "# some sorts of analysis and data wranglings are expected to be performed in Jupyter Notebook\n",
    "# prepare data for further preprocessing and customization for a particular algorithm"
   ]
  },
  {
   "cell_type": "code",
   "execution_count": 2,
   "metadata": {},
   "outputs": [],
   "source": [
    "# Importing all needed stuff"
   ]
  },
  {
   "cell_type": "code",
   "execution_count": 1,
   "metadata": {},
   "outputs": [],
   "source": [
    "import pandas as pd\n",
    "import numpy as np\n",
    "import os"
   ]
  },
  {
   "cell_type": "code",
   "execution_count": 2,
   "metadata": {},
   "outputs": [],
   "source": [
    "%matplotlib inline\n",
    "import matplotlib.pyplot as plt\n",
    "import seaborn as sns\n",
    "sns.set()"
   ]
  },
  {
   "cell_type": "code",
   "execution_count": 3,
   "metadata": {},
   "outputs": [],
   "source": [
    "plt.rcParams['figure.figsize'] = (12,8)"
   ]
  },
  {
   "cell_type": "code",
   "execution_count": 4,
   "metadata": {},
   "outputs": [],
   "source": [
    "# Import special ad-hoc libs here"
   ]
  },
  {
   "cell_type": "code",
   "execution_count": 5,
   "metadata": {},
   "outputs": [],
   "source": [
    "from datetime import datetime\n",
    "from collections import defaultdict"
   ]
  },
  {
   "cell_type": "code",
   "execution_count": 6,
   "metadata": {},
   "outputs": [],
   "source": [
    "PATH = r'data/'"
   ]
  },
  {
   "cell_type": "code",
   "execution_count": 7,
   "metadata": {},
   "outputs": [],
   "source": [
    "readers_file = 'читатели.xlsx'"
   ]
  },
  {
   "cell_type": "code",
   "execution_count": 8,
   "metadata": {},
   "outputs": [],
   "source": [
    "issue1_file = 'Выдача_1.xlsx'\n",
    "issue2_file = 'Выдача_2.xlsx'"
   ]
  },
  {
   "cell_type": "code",
   "execution_count": 29,
   "metadata": {},
   "outputs": [],
   "source": [
    "samples1_file = 'Экземпляры.xlsx'\n",
    "samples2_file = 'Экземпляры_2.xlsx'"
   ]
  },
  {
   "cell_type": "code",
   "execution_count": 30,
   "metadata": {},
   "outputs": [],
   "source": [
    "catalogue_file = 'Каталог.xlsx'"
   ]
  },
  {
   "cell_type": "markdown",
   "metadata": {},
   "source": [
    "#### Read & Explore data"
   ]
  },
  {
   "cell_type": "markdown",
   "metadata": {},
   "source": [
    "##### Readers"
   ]
  },
  {
   "cell_type": "code",
   "execution_count": 10,
   "metadata": {},
   "outputs": [],
   "source": [
    "df_readers = pd.read_excel(os.path.join(PATH, readers_file))"
   ]
  },
  {
   "cell_type": "code",
   "execution_count": 12,
   "metadata": {},
   "outputs": [
    {
     "data": {
      "text/html": [
       "<div>\n",
       "<style scoped>\n",
       "    .dataframe tbody tr th:only-of-type {\n",
       "        vertical-align: middle;\n",
       "    }\n",
       "\n",
       "    .dataframe tbody tr th {\n",
       "        vertical-align: top;\n",
       "    }\n",
       "\n",
       "    .dataframe thead th {\n",
       "        text-align: right;\n",
       "    }\n",
       "</style>\n",
       "<table border=\"1\" class=\"dataframe\">\n",
       "  <thead>\n",
       "    <tr style=\"text-align: right;\">\n",
       "      <th></th>\n",
       "      <th>ID читателя</th>\n",
       "      <th>Дата рождения</th>\n",
       "    </tr>\n",
       "  </thead>\n",
       "  <tbody>\n",
       "    <tr>\n",
       "      <th>0</th>\n",
       "      <td>366670</td>\n",
       "      <td>1974-10-14 00:00:00</td>\n",
       "    </tr>\n",
       "    <tr>\n",
       "      <th>1</th>\n",
       "      <td>235264</td>\n",
       "      <td>1978-06-01 00:00:00</td>\n",
       "    </tr>\n",
       "    <tr>\n",
       "      <th>2</th>\n",
       "      <td>133225</td>\n",
       "      <td>1976-01-06 00:00:00</td>\n",
       "    </tr>\n",
       "    <tr>\n",
       "      <th>3</th>\n",
       "      <td>556716</td>\n",
       "      <td>1989-01-28 00:00:00</td>\n",
       "    </tr>\n",
       "    <tr>\n",
       "      <th>4</th>\n",
       "      <td>52086</td>\n",
       "      <td>1955-08-14 00:00:00</td>\n",
       "    </tr>\n",
       "  </tbody>\n",
       "</table>\n",
       "</div>"
      ],
      "text/plain": [
       "   ID читателя        Дата рождения\n",
       "0       366670  1974-10-14 00:00:00\n",
       "1       235264  1978-06-01 00:00:00\n",
       "2       133225  1976-01-06 00:00:00\n",
       "3       556716  1989-01-28 00:00:00\n",
       "4        52086  1955-08-14 00:00:00"
      ]
     },
     "execution_count": 12,
     "metadata": {},
     "output_type": "execute_result"
    }
   ],
   "source": [
    "df_readers.head()"
   ]
  },
  {
   "cell_type": "code",
   "execution_count": 14,
   "metadata": {},
   "outputs": [
    {
     "data": {
      "text/plain": [
       "(562133, 2)"
      ]
     },
     "execution_count": 14,
     "metadata": {},
     "output_type": "execute_result"
    }
   ],
   "source": [
    "df_readers.shape"
   ]
  },
  {
   "cell_type": "code",
   "execution_count": 17,
   "metadata": {},
   "outputs": [
    {
     "data": {
      "text/html": [
       "<div>\n",
       "<style scoped>\n",
       "    .dataframe tbody tr th:only-of-type {\n",
       "        vertical-align: middle;\n",
       "    }\n",
       "\n",
       "    .dataframe tbody tr th {\n",
       "        vertical-align: top;\n",
       "    }\n",
       "\n",
       "    .dataframe thead th {\n",
       "        text-align: right;\n",
       "    }\n",
       "</style>\n",
       "<table border=\"1\" class=\"dataframe\">\n",
       "  <thead>\n",
       "    <tr style=\"text-align: right;\">\n",
       "      <th></th>\n",
       "      <th>Дата рождения</th>\n",
       "    </tr>\n",
       "  </thead>\n",
       "  <tbody>\n",
       "    <tr>\n",
       "      <th>count</th>\n",
       "      <td>562133</td>\n",
       "    </tr>\n",
       "    <tr>\n",
       "      <th>unique</th>\n",
       "      <td>32872</td>\n",
       "    </tr>\n",
       "    <tr>\n",
       "      <th>top</th>\n",
       "      <td>2018-12-12 00:00:00</td>\n",
       "    </tr>\n",
       "    <tr>\n",
       "      <th>freq</th>\n",
       "      <td>431</td>\n",
       "    </tr>\n",
       "  </tbody>\n",
       "</table>\n",
       "</div>"
      ],
      "text/plain": [
       "              Дата рождения\n",
       "count                562133\n",
       "unique                32872\n",
       "top     2018-12-12 00:00:00\n",
       "freq                    431"
      ]
     },
     "execution_count": 17,
     "metadata": {},
     "output_type": "execute_result"
    }
   ],
   "source": [
    "df_readers.describe(include='O')"
   ]
  },
  {
   "cell_type": "code",
   "execution_count": 18,
   "metadata": {},
   "outputs": [
    {
     "data": {
      "text/plain": [
       "ID читателя      0\n",
       "Дата рождения    0\n",
       "dtype: int64"
      ]
     },
     "execution_count": 18,
     "metadata": {},
     "output_type": "execute_result"
    }
   ],
   "source": [
    "df_readers.isnull().sum()"
   ]
  },
  {
   "cell_type": "code",
   "execution_count": 25,
   "metadata": {},
   "outputs": [
    {
     "data": {
      "text/plain": [
       "ID читателя       int64\n",
       "Дата рождения    object\n",
       "dtype: object"
      ]
     },
     "execution_count": 25,
     "metadata": {},
     "output_type": "execute_result"
    }
   ],
   "source": [
    "df_readers.dtypes"
   ]
  },
  {
   "cell_type": "code",
   "execution_count": 31,
   "metadata": {},
   "outputs": [
    {
     "data": {
      "text/plain": [
       "Timestamp('1999-06-09 00:00:00')"
      ]
     },
     "execution_count": 31,
     "metadata": {},
     "output_type": "execute_result"
    }
   ],
   "source": [
    "df_readers.iloc[100,1]"
   ]
  },
  {
   "cell_type": "code",
   "execution_count": 32,
   "metadata": {},
   "outputs": [],
   "source": [
    "def extract_year(x):\n",
    "    if isinstance(x,str):\n",
    "        return x.split('-')[0]\n",
    "    else:\n",
    "        return x.strftime('%Y-%m-%d-%H.%M.%S').split('-')[0]"
   ]
  },
  {
   "cell_type": "code",
   "execution_count": 39,
   "metadata": {},
   "outputs": [],
   "source": [
    "df_readers['Year'] = df_readers['Дата рождения'].apply(lambda x: extract_year(x))"
   ]
  },
  {
   "cell_type": "code",
   "execution_count": 40,
   "metadata": {},
   "outputs": [],
   "source": [
    "cur_year = 2020\n",
    "def age(x):\n",
    "    return int(cur_year - int(x))"
   ]
  },
  {
   "cell_type": "code",
   "execution_count": 41,
   "metadata": {},
   "outputs": [],
   "source": [
    "df_readers['Age'] = df_readers['Year'].apply(lambda x: age(x))"
   ]
  },
  {
   "cell_type": "code",
   "execution_count": 42,
   "metadata": {},
   "outputs": [
    {
     "data": {
      "text/html": [
       "<div>\n",
       "<style scoped>\n",
       "    .dataframe tbody tr th:only-of-type {\n",
       "        vertical-align: middle;\n",
       "    }\n",
       "\n",
       "    .dataframe tbody tr th {\n",
       "        vertical-align: top;\n",
       "    }\n",
       "\n",
       "    .dataframe thead th {\n",
       "        text-align: right;\n",
       "    }\n",
       "</style>\n",
       "<table border=\"1\" class=\"dataframe\">\n",
       "  <thead>\n",
       "    <tr style=\"text-align: right;\">\n",
       "      <th></th>\n",
       "      <th>ID читателя</th>\n",
       "      <th>Дата рождения</th>\n",
       "      <th>Year</th>\n",
       "      <th>Age</th>\n",
       "    </tr>\n",
       "  </thead>\n",
       "  <tbody>\n",
       "    <tr>\n",
       "      <th>0</th>\n",
       "      <td>366670</td>\n",
       "      <td>1974-10-14 00:00:00</td>\n",
       "      <td>1974</td>\n",
       "      <td>46</td>\n",
       "    </tr>\n",
       "    <tr>\n",
       "      <th>1</th>\n",
       "      <td>235264</td>\n",
       "      <td>1978-06-01 00:00:00</td>\n",
       "      <td>1978</td>\n",
       "      <td>42</td>\n",
       "    </tr>\n",
       "    <tr>\n",
       "      <th>2</th>\n",
       "      <td>133225</td>\n",
       "      <td>1976-01-06 00:00:00</td>\n",
       "      <td>1976</td>\n",
       "      <td>44</td>\n",
       "    </tr>\n",
       "    <tr>\n",
       "      <th>3</th>\n",
       "      <td>556716</td>\n",
       "      <td>1989-01-28 00:00:00</td>\n",
       "      <td>1989</td>\n",
       "      <td>31</td>\n",
       "    </tr>\n",
       "    <tr>\n",
       "      <th>4</th>\n",
       "      <td>52086</td>\n",
       "      <td>1955-08-14 00:00:00</td>\n",
       "      <td>1955</td>\n",
       "      <td>65</td>\n",
       "    </tr>\n",
       "  </tbody>\n",
       "</table>\n",
       "</div>"
      ],
      "text/plain": [
       "   ID читателя        Дата рождения  Year  Age\n",
       "0       366670  1974-10-14 00:00:00  1974   46\n",
       "1       235264  1978-06-01 00:00:00  1978   42\n",
       "2       133225  1976-01-06 00:00:00  1976   44\n",
       "3       556716  1989-01-28 00:00:00  1989   31\n",
       "4        52086  1955-08-14 00:00:00  1955   65"
      ]
     },
     "execution_count": 42,
     "metadata": {},
     "output_type": "execute_result"
    }
   ],
   "source": [
    "df_readers.head()"
   ]
  },
  {
   "cell_type": "code",
   "execution_count": 33,
   "metadata": {},
   "outputs": [],
   "source": [
    "def extract_month(x):\n",
    "    if isinstance(x,str):\n",
    "        return x.split('-')[1]\n",
    "    else:\n",
    "        return x.strftime('%Y-%m-%d-%H.%M.%S').split('-')[1]"
   ]
  },
  {
   "cell_type": "code",
   "execution_count": 44,
   "metadata": {},
   "outputs": [],
   "source": [
    "df_readers['Month'] = df_readers['Дата рождения'].apply(lambda x: extract_month(x))"
   ]
  },
  {
   "cell_type": "code",
   "execution_count": 46,
   "metadata": {},
   "outputs": [],
   "source": [
    "df_readers.drop(columns=['Дата рождения', 'Year'], inplace=True)"
   ]
  },
  {
   "cell_type": "code",
   "execution_count": 47,
   "metadata": {},
   "outputs": [
    {
     "data": {
      "text/html": [
       "<div>\n",
       "<style scoped>\n",
       "    .dataframe tbody tr th:only-of-type {\n",
       "        vertical-align: middle;\n",
       "    }\n",
       "\n",
       "    .dataframe tbody tr th {\n",
       "        vertical-align: top;\n",
       "    }\n",
       "\n",
       "    .dataframe thead th {\n",
       "        text-align: right;\n",
       "    }\n",
       "</style>\n",
       "<table border=\"1\" class=\"dataframe\">\n",
       "  <thead>\n",
       "    <tr style=\"text-align: right;\">\n",
       "      <th></th>\n",
       "      <th>ID читателя</th>\n",
       "      <th>Age</th>\n",
       "      <th>Month</th>\n",
       "    </tr>\n",
       "  </thead>\n",
       "  <tbody>\n",
       "    <tr>\n",
       "      <th>0</th>\n",
       "      <td>366670</td>\n",
       "      <td>46</td>\n",
       "      <td>10</td>\n",
       "    </tr>\n",
       "    <tr>\n",
       "      <th>1</th>\n",
       "      <td>235264</td>\n",
       "      <td>42</td>\n",
       "      <td>06</td>\n",
       "    </tr>\n",
       "    <tr>\n",
       "      <th>2</th>\n",
       "      <td>133225</td>\n",
       "      <td>44</td>\n",
       "      <td>01</td>\n",
       "    </tr>\n",
       "    <tr>\n",
       "      <th>3</th>\n",
       "      <td>556716</td>\n",
       "      <td>31</td>\n",
       "      <td>01</td>\n",
       "    </tr>\n",
       "    <tr>\n",
       "      <th>4</th>\n",
       "      <td>52086</td>\n",
       "      <td>65</td>\n",
       "      <td>08</td>\n",
       "    </tr>\n",
       "  </tbody>\n",
       "</table>\n",
       "</div>"
      ],
      "text/plain": [
       "   ID читателя  Age Month\n",
       "0       366670   46    10\n",
       "1       235264   42    06\n",
       "2       133225   44    01\n",
       "3       556716   31    01\n",
       "4        52086   65    08"
      ]
     },
     "execution_count": 47,
     "metadata": {},
     "output_type": "execute_result"
    }
   ],
   "source": [
    "df_readers.head()"
   ]
  },
  {
   "cell_type": "code",
   "execution_count": 48,
   "metadata": {},
   "outputs": [],
   "source": [
    "df_readers.to_csv('data_clean/readers.csv')"
   ]
  },
  {
   "cell_type": "markdown",
   "metadata": {},
   "source": [
    "##### Issues 1 & 2"
   ]
  },
  {
   "cell_type": "code",
   "execution_count": 9,
   "metadata": {},
   "outputs": [
    {
     "name": "stdout",
     "output_type": "stream",
     "text": [
      "Wall time: 7min 22s\n"
     ]
    }
   ],
   "source": [
    "%%time\n",
    "df1 = pd.read_excel(os.path.join(PATH, issue1_file), sheet_name='Выдача_1')"
   ]
  },
  {
   "cell_type": "code",
   "execution_count": 10,
   "metadata": {},
   "outputs": [
    {
     "data": {
      "text/html": [
       "<div>\n",
       "<style scoped>\n",
       "    .dataframe tbody tr th:only-of-type {\n",
       "        vertical-align: middle;\n",
       "    }\n",
       "\n",
       "    .dataframe tbody tr th {\n",
       "        vertical-align: top;\n",
       "    }\n",
       "\n",
       "    .dataframe thead th {\n",
       "        text-align: right;\n",
       "    }\n",
       "</style>\n",
       "<table border=\"1\" class=\"dataframe\">\n",
       "  <thead>\n",
       "    <tr style=\"text-align: right;\">\n",
       "      <th></th>\n",
       "      <th>ИД выдачи</th>\n",
       "      <th>ИД читателя</th>\n",
       "      <th>Инвентарный номер</th>\n",
       "      <th>Штрих-код</th>\n",
       "      <th>Дата выдачи</th>\n",
       "      <th>Дата сдачи (предполагаемая)</th>\n",
       "      <th>Состояние</th>\n",
       "      <th>Unnamed: 7</th>\n",
       "      <th>Состояния</th>\n",
       "      <th>Unnamed: 9</th>\n",
       "    </tr>\n",
       "  </thead>\n",
       "  <tbody>\n",
       "    <tr>\n",
       "      <th>0</th>\n",
       "      <td>1</td>\n",
       "      <td>179</td>\n",
       "      <td>03:0000005767</td>\n",
       "      <td>381000177719</td>\n",
       "      <td>2018-04-13 15:00:00</td>\n",
       "      <td>2018-04-13 15:00:00</td>\n",
       "      <td>6545</td>\n",
       "      <td>NaN</td>\n",
       "      <td>6544.0</td>\n",
       "      <td>На руках</td>\n",
       "    </tr>\n",
       "    <tr>\n",
       "      <th>1</th>\n",
       "      <td>2</td>\n",
       "      <td>179</td>\n",
       "      <td>03:0000005761</td>\n",
       "      <td>381000196420</td>\n",
       "      <td>2018-04-13 15:00:00</td>\n",
       "      <td>2018-04-16 15:00:00</td>\n",
       "      <td>6548</td>\n",
       "      <td>NaN</td>\n",
       "      <td>6545.0</td>\n",
       "      <td>Переоформлен</td>\n",
       "    </tr>\n",
       "    <tr>\n",
       "      <th>2</th>\n",
       "      <td>3</td>\n",
       "      <td>179</td>\n",
       "      <td>03:0000005767</td>\n",
       "      <td>381000177719</td>\n",
       "      <td>2018-04-13 15:00:00</td>\n",
       "      <td>2018-04-13 15:00:00</td>\n",
       "      <td>6545</td>\n",
       "      <td>NaN</td>\n",
       "      <td>6548.0</td>\n",
       "      <td>Размещен в фонде</td>\n",
       "    </tr>\n",
       "    <tr>\n",
       "      <th>3</th>\n",
       "      <td>4</td>\n",
       "      <td>179</td>\n",
       "      <td>03:0000005767</td>\n",
       "      <td>381000177719</td>\n",
       "      <td>2018-04-13 15:00:00</td>\n",
       "      <td>2018-04-13 15:00:00</td>\n",
       "      <td>6545</td>\n",
       "      <td>NaN</td>\n",
       "      <td>NaN</td>\n",
       "      <td>NaN</td>\n",
       "    </tr>\n",
       "    <tr>\n",
       "      <th>4</th>\n",
       "      <td>5</td>\n",
       "      <td>179</td>\n",
       "      <td>03:0000005767</td>\n",
       "      <td>381000177719</td>\n",
       "      <td>2018-04-13 15:00:00</td>\n",
       "      <td>2018-04-13 15:00:00</td>\n",
       "      <td>6548</td>\n",
       "      <td>NaN</td>\n",
       "      <td>NaN</td>\n",
       "      <td>NaN</td>\n",
       "    </tr>\n",
       "  </tbody>\n",
       "</table>\n",
       "</div>"
      ],
      "text/plain": [
       "   ИД выдачи  ИД читателя Инвентарный номер     Штрих-код  \\\n",
       "0          1          179     03:0000005767  381000177719   \n",
       "1          2          179     03:0000005761  381000196420   \n",
       "2          3          179     03:0000005767  381000177719   \n",
       "3          4          179     03:0000005767  381000177719   \n",
       "4          5          179     03:0000005767  381000177719   \n",
       "\n",
       "           Дата выдачи Дата сдачи (предполагаемая)  Состояние  Unnamed: 7  \\\n",
       "0  2018-04-13 15:00:00         2018-04-13 15:00:00       6545         NaN   \n",
       "1  2018-04-13 15:00:00         2018-04-16 15:00:00       6548         NaN   \n",
       "2  2018-04-13 15:00:00         2018-04-13 15:00:00       6545         NaN   \n",
       "3  2018-04-13 15:00:00         2018-04-13 15:00:00       6545         NaN   \n",
       "4  2018-04-13 15:00:00         2018-04-13 15:00:00       6548         NaN   \n",
       "\n",
       "   Состояния        Unnamed: 9  \n",
       "0     6544.0          На руках  \n",
       "1     6545.0      Переоформлен  \n",
       "2     6548.0  Размещен в фонде  \n",
       "3        NaN               NaN  \n",
       "4        NaN               NaN  "
      ]
     },
     "execution_count": 10,
     "metadata": {},
     "output_type": "execute_result"
    }
   ],
   "source": [
    "df1.head()"
   ]
  },
  {
   "cell_type": "code",
   "execution_count": 11,
   "metadata": {},
   "outputs": [],
   "source": [
    "df1.drop(columns=['Unnamed: 7', 'Состояния', 'Unnamed: 9'], inplace=True)"
   ]
  },
  {
   "cell_type": "code",
   "execution_count": 13,
   "metadata": {},
   "outputs": [],
   "source": [
    "df2 = pd.read_excel(os.path.join(PATH, issue1_file), sheet_name='Выдача_2', usecols=range(0, 7))"
   ]
  },
  {
   "cell_type": "code",
   "execution_count": 14,
   "metadata": {},
   "outputs": [
    {
     "data": {
      "text/html": [
       "<div>\n",
       "<style scoped>\n",
       "    .dataframe tbody tr th:only-of-type {\n",
       "        vertical-align: middle;\n",
       "    }\n",
       "\n",
       "    .dataframe tbody tr th {\n",
       "        vertical-align: top;\n",
       "    }\n",
       "\n",
       "    .dataframe thead th {\n",
       "        text-align: right;\n",
       "    }\n",
       "</style>\n",
       "<table border=\"1\" class=\"dataframe\">\n",
       "  <thead>\n",
       "    <tr style=\"text-align: right;\">\n",
       "      <th></th>\n",
       "      <th>ИД выдачи</th>\n",
       "      <th>ИД читателя</th>\n",
       "      <th>Инвентарный номер</th>\n",
       "      <th>Штрих-код</th>\n",
       "      <th>Дата выдачи</th>\n",
       "      <th>Дата сдачи (предполагаемая)</th>\n",
       "      <th>Состояние</th>\n",
       "    </tr>\n",
       "  </thead>\n",
       "  <tbody>\n",
       "    <tr>\n",
       "      <th>0</th>\n",
       "      <td>1</td>\n",
       "      <td>179</td>\n",
       "      <td>03:0000005767</td>\n",
       "      <td>381000177719</td>\n",
       "      <td>2018-04-13 15:00:00</td>\n",
       "      <td>2018-04-13 15:00:00</td>\n",
       "      <td>6545</td>\n",
       "    </tr>\n",
       "    <tr>\n",
       "      <th>1</th>\n",
       "      <td>2</td>\n",
       "      <td>179</td>\n",
       "      <td>03:0000005761</td>\n",
       "      <td>381000196420</td>\n",
       "      <td>2018-04-13 15:00:00</td>\n",
       "      <td>2018-04-16 15:00:00</td>\n",
       "      <td>6548</td>\n",
       "    </tr>\n",
       "    <tr>\n",
       "      <th>2</th>\n",
       "      <td>3</td>\n",
       "      <td>179</td>\n",
       "      <td>03:0000005767</td>\n",
       "      <td>381000177719</td>\n",
       "      <td>2018-04-13 15:00:00</td>\n",
       "      <td>2018-04-13 15:00:00</td>\n",
       "      <td>6545</td>\n",
       "    </tr>\n",
       "    <tr>\n",
       "      <th>3</th>\n",
       "      <td>4</td>\n",
       "      <td>179</td>\n",
       "      <td>03:0000005767</td>\n",
       "      <td>381000177719</td>\n",
       "      <td>2018-04-13 15:00:00</td>\n",
       "      <td>2018-04-13 15:00:00</td>\n",
       "      <td>6545</td>\n",
       "    </tr>\n",
       "    <tr>\n",
       "      <th>4</th>\n",
       "      <td>5</td>\n",
       "      <td>179</td>\n",
       "      <td>03:0000005767</td>\n",
       "      <td>381000177719</td>\n",
       "      <td>2018-04-13 15:00:00</td>\n",
       "      <td>2018-04-13 15:00:00</td>\n",
       "      <td>6548</td>\n",
       "    </tr>\n",
       "  </tbody>\n",
       "</table>\n",
       "</div>"
      ],
      "text/plain": [
       "   ИД выдачи  ИД читателя Инвентарный номер     Штрих-код  \\\n",
       "0          1          179     03:0000005767  381000177719   \n",
       "1          2          179     03:0000005761  381000196420   \n",
       "2          3          179     03:0000005767  381000177719   \n",
       "3          4          179     03:0000005767  381000177719   \n",
       "4          5          179     03:0000005767  381000177719   \n",
       "\n",
       "           Дата выдачи Дата сдачи (предполагаемая)  Состояние  \n",
       "0  2018-04-13 15:00:00         2018-04-13 15:00:00       6545  \n",
       "1  2018-04-13 15:00:00         2018-04-16 15:00:00       6548  \n",
       "2  2018-04-13 15:00:00         2018-04-13 15:00:00       6545  \n",
       "3  2018-04-13 15:00:00         2018-04-13 15:00:00       6545  \n",
       "4  2018-04-13 15:00:00         2018-04-13 15:00:00       6548  "
      ]
     },
     "execution_count": 14,
     "metadata": {},
     "output_type": "execute_result"
    }
   ],
   "source": [
    "df2.head()"
   ]
  },
  {
   "cell_type": "code",
   "execution_count": 15,
   "metadata": {},
   "outputs": [],
   "source": [
    "df3 = pd.read_excel(os.path.join(PATH, issue1_file), sheet_name='Выдача_3', usecols=range(0, 7))"
   ]
  },
  {
   "cell_type": "code",
   "execution_count": 16,
   "metadata": {},
   "outputs": [],
   "source": [
    "df4 = pd.read_excel(os.path.join(PATH, issue1_file), sheet_name='Выдача_4', usecols=range(0, 7))"
   ]
  },
  {
   "cell_type": "code",
   "execution_count": 17,
   "metadata": {},
   "outputs": [],
   "source": [
    "df5 = pd.read_excel(os.path.join(PATH, issue1_file), sheet_name='Выдача_5', usecols=range(0, 7))"
   ]
  },
  {
   "cell_type": "code",
   "execution_count": 19,
   "metadata": {},
   "outputs": [],
   "source": [
    "df6 = pd.read_excel(os.path.join(PATH, issue1_file), sheet_name='Выдача 6', usecols=range(0, 7))"
   ]
  },
  {
   "cell_type": "code",
   "execution_count": null,
   "metadata": {},
   "outputs": [],
   "source": [
    "#############################################################################"
   ]
  },
  {
   "cell_type": "code",
   "execution_count": 20,
   "metadata": {},
   "outputs": [],
   "source": [
    "df7 = pd.read_excel(os.path.join(PATH, issue2_file), sheet_name='Выдача_7', usecols=range(0, 7))"
   ]
  },
  {
   "cell_type": "code",
   "execution_count": 21,
   "metadata": {},
   "outputs": [],
   "source": [
    "df8 = pd.read_excel(os.path.join(PATH, issue2_file), sheet_name='Выдача_8', usecols=range(0, 7))"
   ]
  },
  {
   "cell_type": "code",
   "execution_count": 22,
   "metadata": {},
   "outputs": [],
   "source": [
    "df9 = pd.read_excel(os.path.join(PATH, issue2_file), sheet_name='Выдача_9', usecols=range(0, 7))"
   ]
  },
  {
   "cell_type": "code",
   "execution_count": 23,
   "metadata": {},
   "outputs": [],
   "source": [
    "df10 = pd.read_excel(os.path.join(PATH, issue2_file), sheet_name='Выдача_10', usecols=range(0, 7))"
   ]
  },
  {
   "cell_type": "code",
   "execution_count": 24,
   "metadata": {},
   "outputs": [],
   "source": [
    "df11 = pd.read_excel(os.path.join(PATH, issue2_file), sheet_name='Выдача_11', usecols=range(0, 7))"
   ]
  },
  {
   "cell_type": "code",
   "execution_count": 25,
   "metadata": {},
   "outputs": [],
   "source": [
    "df12 = pd.read_excel(os.path.join(PATH, issue2_file), sheet_name='Выдача_12', usecols=range(0, 7))"
   ]
  },
  {
   "cell_type": "code",
   "execution_count": 26,
   "metadata": {},
   "outputs": [],
   "source": [
    "df_issues = pd.concat([df1, df2, df3, df4, df5, df6, df7, df8, df9, df10, df11, df12], axis=0)"
   ]
  },
  {
   "cell_type": "code",
   "execution_count": 39,
   "metadata": {},
   "outputs": [
    {
     "data": {
      "text/html": [
       "<div>\n",
       "<style scoped>\n",
       "    .dataframe tbody tr th:only-of-type {\n",
       "        vertical-align: middle;\n",
       "    }\n",
       "\n",
       "    .dataframe tbody tr th {\n",
       "        vertical-align: top;\n",
       "    }\n",
       "\n",
       "    .dataframe thead th {\n",
       "        text-align: right;\n",
       "    }\n",
       "</style>\n",
       "<table border=\"1\" class=\"dataframe\">\n",
       "  <thead>\n",
       "    <tr style=\"text-align: right;\">\n",
       "      <th></th>\n",
       "      <th>ИД выдачи</th>\n",
       "      <th>ИД читателя</th>\n",
       "      <th>Инвентарный номер</th>\n",
       "      <th>Штрих-код</th>\n",
       "      <th>Дата выдачи</th>\n",
       "      <th>Дата сдачи (предполагаемая)</th>\n",
       "      <th>Состояние</th>\n",
       "      <th>Year_issue</th>\n",
       "      <th>Month_issue</th>\n",
       "    </tr>\n",
       "  </thead>\n",
       "  <tbody>\n",
       "    <tr>\n",
       "      <th>423355</th>\n",
       "      <td>11423388</td>\n",
       "      <td>566211</td>\n",
       "      <td>09:0000922563</td>\n",
       "      <td>980012545389</td>\n",
       "      <td>2020-10-30 15:00:00</td>\n",
       "      <td>2020-11-29 15:00:00</td>\n",
       "      <td>6544</td>\n",
       "      <td>2020</td>\n",
       "      <td>10</td>\n",
       "    </tr>\n",
       "    <tr>\n",
       "      <th>423356</th>\n",
       "      <td>11423389</td>\n",
       "      <td>110298</td>\n",
       "      <td>08:0000227792</td>\n",
       "      <td>880002994725</td>\n",
       "      <td>2020-10-10 15:00:00</td>\n",
       "      <td>2020-11-29 15:00:00</td>\n",
       "      <td>6544</td>\n",
       "      <td>2020</td>\n",
       "      <td>10</td>\n",
       "    </tr>\n",
       "    <tr>\n",
       "      <th>423357</th>\n",
       "      <td>11423390</td>\n",
       "      <td>110298</td>\n",
       "      <td>Б08:00001928</td>\n",
       "      <td>880000269153</td>\n",
       "      <td>2020-10-01 15:00:00</td>\n",
       "      <td>2020-11-29 15:00:00</td>\n",
       "      <td>6544</td>\n",
       "      <td>2020</td>\n",
       "      <td>10</td>\n",
       "    </tr>\n",
       "    <tr>\n",
       "      <th>423358</th>\n",
       "      <td>11423391</td>\n",
       "      <td>110298</td>\n",
       "      <td>Б08:00027425</td>\n",
       "      <td>880007222816</td>\n",
       "      <td>2020-10-01 15:00:00</td>\n",
       "      <td>2020-11-29 15:00:00</td>\n",
       "      <td>6544</td>\n",
       "      <td>2020</td>\n",
       "      <td>10</td>\n",
       "    </tr>\n",
       "    <tr>\n",
       "      <th>423359</th>\n",
       "      <td>11423392</td>\n",
       "      <td>535365</td>\n",
       "      <td>08:0001063365</td>\n",
       "      <td>880008412483</td>\n",
       "      <td>2020-10-30 15:00:00</td>\n",
       "      <td>2020-11-29 15:00:00</td>\n",
       "      <td>6544</td>\n",
       "      <td>2020</td>\n",
       "      <td>10</td>\n",
       "    </tr>\n",
       "  </tbody>\n",
       "</table>\n",
       "</div>"
      ],
      "text/plain": [
       "        ИД выдачи  ИД читателя Инвентарный номер     Штрих-код  \\\n",
       "423355   11423388       566211     09:0000922563  980012545389   \n",
       "423356   11423389       110298     08:0000227792  880002994725   \n",
       "423357   11423390       110298      Б08:00001928  880000269153   \n",
       "423358   11423391       110298      Б08:00027425  880007222816   \n",
       "423359   11423392       535365     08:0001063365  880008412483   \n",
       "\n",
       "                Дата выдачи Дата сдачи (предполагаемая)  Состояние Year_issue  \\\n",
       "423355  2020-10-30 15:00:00         2020-11-29 15:00:00       6544       2020   \n",
       "423356  2020-10-10 15:00:00         2020-11-29 15:00:00       6544       2020   \n",
       "423357  2020-10-01 15:00:00         2020-11-29 15:00:00       6544       2020   \n",
       "423358  2020-10-01 15:00:00         2020-11-29 15:00:00       6544       2020   \n",
       "423359  2020-10-30 15:00:00         2020-11-29 15:00:00       6544       2020   \n",
       "\n",
       "       Month_issue  \n",
       "423355          10  \n",
       "423356          10  \n",
       "423357          10  \n",
       "423358          10  \n",
       "423359          10  "
      ]
     },
     "execution_count": 39,
     "metadata": {},
     "output_type": "execute_result"
    }
   ],
   "source": [
    "df_issues.tail()"
   ]
  },
  {
   "cell_type": "code",
   "execution_count": 28,
   "metadata": {},
   "outputs": [
    {
     "data": {
      "text/plain": [
       "(11420807, 7)"
      ]
     },
     "execution_count": 28,
     "metadata": {},
     "output_type": "execute_result"
    }
   ],
   "source": [
    "df_issues.shape"
   ]
  },
  {
   "cell_type": "code",
   "execution_count": 34,
   "metadata": {},
   "outputs": [],
   "source": [
    "df_issues['Year_issue'] = df_issues['Дата выдачи'].apply(lambda x: extract_year(x))"
   ]
  },
  {
   "cell_type": "code",
   "execution_count": 35,
   "metadata": {},
   "outputs": [],
   "source": [
    "df_issues['Month_issue'] = df_issues['Дата выдачи'].apply(lambda x: extract_month(x))"
   ]
  },
  {
   "cell_type": "code",
   "execution_count": 45,
   "metadata": {},
   "outputs": [],
   "source": [
    "def dur_issue(row):\n",
    "    date_in = row['Дата выдачи']\n",
    "    date_out = row['Дата сдачи (предполагаемая)']\n",
    "    if isinstance(date_in,str):\n",
    "        date_in = datetime.strptime(date_in, '%Y-%m-%d %H:%M:%S')\n",
    "    if isinstance(date_out,str):\n",
    "        date_out = datetime.strptime(date_out, '%Y-%m-%d %H:%M:%S')\n",
    "    return date_out - date_in"
   ]
  },
  {
   "cell_type": "code",
   "execution_count": 47,
   "metadata": {},
   "outputs": [],
   "source": [
    "df_issues['Duration_issue'] = df_issues.apply(lambda row: dur_issue(row), axis=1)"
   ]
  },
  {
   "cell_type": "code",
   "execution_count": 48,
   "metadata": {},
   "outputs": [
    {
     "data": {
      "text/html": [
       "<div>\n",
       "<style scoped>\n",
       "    .dataframe tbody tr th:only-of-type {\n",
       "        vertical-align: middle;\n",
       "    }\n",
       "\n",
       "    .dataframe tbody tr th {\n",
       "        vertical-align: top;\n",
       "    }\n",
       "\n",
       "    .dataframe thead th {\n",
       "        text-align: right;\n",
       "    }\n",
       "</style>\n",
       "<table border=\"1\" class=\"dataframe\">\n",
       "  <thead>\n",
       "    <tr style=\"text-align: right;\">\n",
       "      <th></th>\n",
       "      <th>ИД выдачи</th>\n",
       "      <th>ИД читателя</th>\n",
       "      <th>Инвентарный номер</th>\n",
       "      <th>Штрих-код</th>\n",
       "      <th>Дата выдачи</th>\n",
       "      <th>Дата сдачи (предполагаемая)</th>\n",
       "      <th>Состояние</th>\n",
       "      <th>Year_issue</th>\n",
       "      <th>Month_issue</th>\n",
       "      <th>Duration_issue</th>\n",
       "    </tr>\n",
       "  </thead>\n",
       "  <tbody>\n",
       "    <tr>\n",
       "      <th>0</th>\n",
       "      <td>1</td>\n",
       "      <td>179</td>\n",
       "      <td>03:0000005767</td>\n",
       "      <td>381000177719</td>\n",
       "      <td>2018-04-13 15:00:00</td>\n",
       "      <td>2018-04-13 15:00:00</td>\n",
       "      <td>6545</td>\n",
       "      <td>2018</td>\n",
       "      <td>04</td>\n",
       "      <td>0 days</td>\n",
       "    </tr>\n",
       "    <tr>\n",
       "      <th>1</th>\n",
       "      <td>2</td>\n",
       "      <td>179</td>\n",
       "      <td>03:0000005761</td>\n",
       "      <td>381000196420</td>\n",
       "      <td>2018-04-13 15:00:00</td>\n",
       "      <td>2018-04-16 15:00:00</td>\n",
       "      <td>6548</td>\n",
       "      <td>2018</td>\n",
       "      <td>04</td>\n",
       "      <td>3 days</td>\n",
       "    </tr>\n",
       "    <tr>\n",
       "      <th>2</th>\n",
       "      <td>3</td>\n",
       "      <td>179</td>\n",
       "      <td>03:0000005767</td>\n",
       "      <td>381000177719</td>\n",
       "      <td>2018-04-13 15:00:00</td>\n",
       "      <td>2018-04-13 15:00:00</td>\n",
       "      <td>6545</td>\n",
       "      <td>2018</td>\n",
       "      <td>04</td>\n",
       "      <td>0 days</td>\n",
       "    </tr>\n",
       "    <tr>\n",
       "      <th>3</th>\n",
       "      <td>4</td>\n",
       "      <td>179</td>\n",
       "      <td>03:0000005767</td>\n",
       "      <td>381000177719</td>\n",
       "      <td>2018-04-13 15:00:00</td>\n",
       "      <td>2018-04-13 15:00:00</td>\n",
       "      <td>6545</td>\n",
       "      <td>2018</td>\n",
       "      <td>04</td>\n",
       "      <td>0 days</td>\n",
       "    </tr>\n",
       "    <tr>\n",
       "      <th>4</th>\n",
       "      <td>5</td>\n",
       "      <td>179</td>\n",
       "      <td>03:0000005767</td>\n",
       "      <td>381000177719</td>\n",
       "      <td>2018-04-13 15:00:00</td>\n",
       "      <td>2018-04-13 15:00:00</td>\n",
       "      <td>6548</td>\n",
       "      <td>2018</td>\n",
       "      <td>04</td>\n",
       "      <td>0 days</td>\n",
       "    </tr>\n",
       "  </tbody>\n",
       "</table>\n",
       "</div>"
      ],
      "text/plain": [
       "   ИД выдачи  ИД читателя Инвентарный номер     Штрих-код  \\\n",
       "0          1          179     03:0000005767  381000177719   \n",
       "1          2          179     03:0000005761  381000196420   \n",
       "2          3          179     03:0000005767  381000177719   \n",
       "3          4          179     03:0000005767  381000177719   \n",
       "4          5          179     03:0000005767  381000177719   \n",
       "\n",
       "           Дата выдачи Дата сдачи (предполагаемая)  Состояние Year_issue  \\\n",
       "0  2018-04-13 15:00:00         2018-04-13 15:00:00       6545       2018   \n",
       "1  2018-04-13 15:00:00         2018-04-16 15:00:00       6548       2018   \n",
       "2  2018-04-13 15:00:00         2018-04-13 15:00:00       6545       2018   \n",
       "3  2018-04-13 15:00:00         2018-04-13 15:00:00       6545       2018   \n",
       "4  2018-04-13 15:00:00         2018-04-13 15:00:00       6548       2018   \n",
       "\n",
       "  Month_issue Duration_issue  \n",
       "0          04         0 days  \n",
       "1          04         3 days  \n",
       "2          04         0 days  \n",
       "3          04         0 days  \n",
       "4          04         0 days  "
      ]
     },
     "execution_count": 48,
     "metadata": {},
     "output_type": "execute_result"
    }
   ],
   "source": [
    "df_issues.head()"
   ]
  },
  {
   "cell_type": "code",
   "execution_count": 49,
   "metadata": {},
   "outputs": [],
   "source": [
    "df_issues.drop(columns=['Дата выдачи', 'Дата сдачи (предполагаемая)', 'Штрих-код'], inplace=True)"
   ]
  },
  {
   "cell_type": "code",
   "execution_count": 50,
   "metadata": {},
   "outputs": [],
   "source": [
    "map_ = {\n",
    "    '6544':'На руках',\n",
    "    '6545':'Переоформлен',\n",
    "    '6548':'Размещен в фонде',\n",
    "}"
   ]
  },
  {
   "cell_type": "code",
   "execution_count": 51,
   "metadata": {},
   "outputs": [],
   "source": [
    "df_issues['Состояние'] = df_issues['Состояние'].map(map_)"
   ]
  },
  {
   "cell_type": "code",
   "execution_count": 52,
   "metadata": {},
   "outputs": [],
   "source": [
    "df_issues.to_csv('data_clean/books_issues.csv')"
   ]
  },
  {
   "cell_type": "markdown",
   "metadata": {},
   "source": [
    "##### Samples"
   ]
  },
  {
   "cell_type": "code",
   "execution_count": 53,
   "metadata": {},
   "outputs": [
    {
     "name": "stdout",
     "output_type": "stream",
     "text": [
      "Wall time: 7min 28s\n"
     ]
    }
   ],
   "source": [
    "%%time\n",
    "df1 = pd.read_excel(os.path.join(PATH, samples1_file), sheet_name='Фонд_1', usecols=(1,2))"
   ]
  },
  {
   "cell_type": "code",
   "execution_count": 54,
   "metadata": {},
   "outputs": [],
   "source": [
    "df2 = pd.read_excel(os.path.join(PATH, samples1_file), sheet_name='Фонд_2', usecols=(1,2))"
   ]
  },
  {
   "cell_type": "code",
   "execution_count": 55,
   "metadata": {},
   "outputs": [],
   "source": [
    "df3 = pd.read_excel(os.path.join(PATH, samples1_file), sheet_name='Фонд_3', usecols=(1,2))"
   ]
  },
  {
   "cell_type": "code",
   "execution_count": 56,
   "metadata": {},
   "outputs": [],
   "source": [
    "df4 = pd.read_excel(os.path.join(PATH, samples1_file), sheet_name='Фонд_4', usecols=(1,2))"
   ]
  },
  {
   "cell_type": "code",
   "execution_count": 57,
   "metadata": {},
   "outputs": [],
   "source": [
    "df5 = pd.read_excel(os.path.join(PATH, samples1_file), sheet_name='Фонд_5', usecols=(1,2))"
   ]
  },
  {
   "cell_type": "code",
   "execution_count": 58,
   "metadata": {},
   "outputs": [],
   "source": [
    "df6 = pd.read_excel(os.path.join(PATH, samples1_file), sheet_name='Фонд_6', usecols=(1,2))"
   ]
  },
  {
   "cell_type": "code",
   "execution_count": 59,
   "metadata": {},
   "outputs": [],
   "source": [
    "df7 = pd.read_excel(os.path.join(PATH, samples2_file), sheet_name='Фонд_7', usecols=(1,2))"
   ]
  },
  {
   "cell_type": "code",
   "execution_count": 60,
   "metadata": {},
   "outputs": [],
   "source": [
    "df8 = pd.read_excel(os.path.join(PATH, samples2_file), sheet_name='Фонд_8', usecols=(1,2))"
   ]
  },
  {
   "cell_type": "code",
   "execution_count": 61,
   "metadata": {},
   "outputs": [],
   "source": [
    "df9 = pd.read_excel(os.path.join(PATH, samples2_file), sheet_name='Фонд_9', usecols=(1,2))"
   ]
  },
  {
   "cell_type": "code",
   "execution_count": 62,
   "metadata": {},
   "outputs": [],
   "source": [
    "df10 = pd.read_excel(os.path.join(PATH, samples2_file), sheet_name='Фонд_10', usecols=(1,2))"
   ]
  },
  {
   "cell_type": "code",
   "execution_count": 63,
   "metadata": {},
   "outputs": [],
   "source": [
    "df11 = pd.read_excel(os.path.join(PATH, samples2_file), sheet_name='Фонд_11', usecols=(1,2))"
   ]
  },
  {
   "cell_type": "code",
   "execution_count": 64,
   "metadata": {},
   "outputs": [],
   "source": [
    "df12 = pd.read_excel(os.path.join(PATH, samples2_file), sheet_name='Фонд_12', usecols=(1,2))"
   ]
  },
  {
   "cell_type": "code",
   "execution_count": 65,
   "metadata": {},
   "outputs": [],
   "source": [
    "df13 = pd.read_excel(os.path.join(PATH, samples2_file), sheet_name='Фонд_13', usecols=(1,2))"
   ]
  },
  {
   "cell_type": "code",
   "execution_count": 66,
   "metadata": {},
   "outputs": [],
   "source": [
    "df_samples = pd.concat([df1, df2, df3, df4, df5, df6, df7, df8, df9, df10, df11, df12, df13], axis=0)"
   ]
  },
  {
   "cell_type": "code",
   "execution_count": 67,
   "metadata": {},
   "outputs": [
    {
     "data": {
      "text/html": [
       "<div>\n",
       "<style scoped>\n",
       "    .dataframe tbody tr th:only-of-type {\n",
       "        vertical-align: middle;\n",
       "    }\n",
       "\n",
       "    .dataframe tbody tr th {\n",
       "        vertical-align: top;\n",
       "    }\n",
       "\n",
       "    .dataframe thead th {\n",
       "        text-align: right;\n",
       "    }\n",
       "</style>\n",
       "<table border=\"1\" class=\"dataframe\">\n",
       "  <thead>\n",
       "    <tr style=\"text-align: right;\">\n",
       "      <th></th>\n",
       "      <th>ИД Каталожной записи</th>\n",
       "      <th>Инвентарный номер</th>\n",
       "    </tr>\n",
       "  </thead>\n",
       "  <tbody>\n",
       "    <tr>\n",
       "      <th>0</th>\n",
       "      <td>1</td>\n",
       "      <td>09:0000120386</td>\n",
       "    </tr>\n",
       "    <tr>\n",
       "      <th>1</th>\n",
       "      <td>1</td>\n",
       "      <td>09:0000152427</td>\n",
       "    </tr>\n",
       "    <tr>\n",
       "      <th>2</th>\n",
       "      <td>1</td>\n",
       "      <td>09:0000240622</td>\n",
       "    </tr>\n",
       "    <tr>\n",
       "      <th>3</th>\n",
       "      <td>1</td>\n",
       "      <td>09:0000278133</td>\n",
       "    </tr>\n",
       "    <tr>\n",
       "      <th>4</th>\n",
       "      <td>1</td>\n",
       "      <td>05:0000257728</td>\n",
       "    </tr>\n",
       "  </tbody>\n",
       "</table>\n",
       "</div>"
      ],
      "text/plain": [
       "   ИД Каталожной записи Инвентарный номер\n",
       "0                     1     09:0000120386\n",
       "1                     1     09:0000152427\n",
       "2                     1     09:0000240622\n",
       "3                     1     09:0000278133\n",
       "4                     1     05:0000257728"
      ]
     },
     "execution_count": 67,
     "metadata": {},
     "output_type": "execute_result"
    }
   ],
   "source": [
    "df_samples.head()"
   ]
  },
  {
   "cell_type": "code",
   "execution_count": 68,
   "metadata": {},
   "outputs": [
    {
     "data": {
      "text/plain": [
       "(12728880, 2)"
      ]
     },
     "execution_count": 68,
     "metadata": {},
     "output_type": "execute_result"
    }
   ],
   "source": [
    "df_samples.shape"
   ]
  },
  {
   "cell_type": "code",
   "execution_count": 69,
   "metadata": {},
   "outputs": [],
   "source": [
    "df_samples.to_csv('data_clean/books_samples.csv')"
   ]
  },
  {
   "cell_type": "markdown",
   "metadata": {},
   "source": [
    "##### Catalogue"
   ]
  },
  {
   "cell_type": "code",
   "execution_count": 70,
   "metadata": {},
   "outputs": [],
   "source": [
    "df_cat1 = pd.read_excel(os.path.join(PATH, catalogue_file), sheet_name='Каталог_1')"
   ]
  },
  {
   "cell_type": "code",
   "execution_count": 71,
   "metadata": {},
   "outputs": [],
   "source": [
    "df_cat2 = pd.read_excel(os.path.join(PATH, catalogue_file), sheet_name='Каталог_2')"
   ]
  },
  {
   "cell_type": "code",
   "execution_count": 72,
   "metadata": {},
   "outputs": [],
   "source": [
    "df_cat = pd.concat([df_cat1, df_cat2], axis=0)"
   ]
  },
  {
   "cell_type": "code",
   "execution_count": 73,
   "metadata": {},
   "outputs": [
    {
     "data": {
      "text/plain": [
       "(1370881, 10)"
      ]
     },
     "execution_count": 73,
     "metadata": {},
     "output_type": "execute_result"
    }
   ],
   "source": [
    "df_cat.shape"
   ]
  },
  {
   "cell_type": "code",
   "execution_count": 74,
   "metadata": {
    "collapsed": true
   },
   "outputs": [
    {
     "data": {
      "text/html": [
       "<div>\n",
       "<style scoped>\n",
       "    .dataframe tbody tr th:only-of-type {\n",
       "        vertical-align: middle;\n",
       "    }\n",
       "\n",
       "    .dataframe tbody tr th {\n",
       "        vertical-align: top;\n",
       "    }\n",
       "\n",
       "    .dataframe thead th {\n",
       "        text-align: right;\n",
       "    }\n",
       "</style>\n",
       "<table border=\"1\" class=\"dataframe\">\n",
       "  <thead>\n",
       "    <tr style=\"text-align: right;\">\n",
       "      <th></th>\n",
       "      <th>doc_id</th>\n",
       "      <th>p100a</th>\n",
       "      <th>p245a</th>\n",
       "      <th>p260a</th>\n",
       "      <th>p260b</th>\n",
       "      <th>p260c</th>\n",
       "      <th>p490a</th>\n",
       "      <th>p650a</th>\n",
       "      <th>p084a</th>\n",
       "      <th>p521a</th>\n",
       "    </tr>\n",
       "  </thead>\n",
       "  <tbody>\n",
       "    <tr>\n",
       "      <th>0</th>\n",
       "      <td>1</td>\n",
       "      <td>Устинова Татьяна Витальевна</td>\n",
       "      <td>Призрак Канта</td>\n",
       "      <td>Москва</td>\n",
       "      <td>Эксмо</td>\n",
       "      <td>2018</td>\n",
       "      <td>Татьяна Устинова. Первая среди лучших</td>\n",
       "      <td>Художественная литература ; Российский детектив</td>\n",
       "      <td>84(2Рос)6</td>\n",
       "      <td>16+</td>\n",
       "    </tr>\n",
       "    <tr>\n",
       "      <th>1</th>\n",
       "      <td>2</td>\n",
       "      <td>NaN</td>\n",
       "      <td>Наука и жизнь</td>\n",
       "      <td>Москва</td>\n",
       "      <td>АНО Редакция журнала «Наука и жизнь»</td>\n",
       "      <td>1938-</td>\n",
       "      <td>NaN</td>\n",
       "      <td>Наука. Науковедение</td>\n",
       "      <td>72</td>\n",
       "      <td>12+</td>\n",
       "    </tr>\n",
       "    <tr>\n",
       "      <th>2</th>\n",
       "      <td>3</td>\n",
       "      <td>NaN</td>\n",
       "      <td>Наука и жизнь</td>\n",
       "      <td>NaN</td>\n",
       "      <td>NaN</td>\n",
       "      <td>2018</td>\n",
       "      <td>NaN</td>\n",
       "      <td>Наука. Науковедение</td>\n",
       "      <td>72</td>\n",
       "      <td>12+</td>\n",
       "    </tr>\n",
       "    <tr>\n",
       "      <th>3</th>\n",
       "      <td>4</td>\n",
       "      <td>NaN</td>\n",
       "      <td>Наука и жизнь</td>\n",
       "      <td>NaN</td>\n",
       "      <td>NaN</td>\n",
       "      <td>2018</td>\n",
       "      <td>NaN</td>\n",
       "      <td>Наука. Науковедение</td>\n",
       "      <td>72</td>\n",
       "      <td>12+</td>\n",
       "    </tr>\n",
       "    <tr>\n",
       "      <th>4</th>\n",
       "      <td>5</td>\n",
       "      <td>NaN</td>\n",
       "      <td>Наука и жизнь</td>\n",
       "      <td>NaN</td>\n",
       "      <td>NaN</td>\n",
       "      <td>2018</td>\n",
       "      <td>NaN</td>\n",
       "      <td>Наука. Науковедение</td>\n",
       "      <td>72</td>\n",
       "      <td>12+</td>\n",
       "    </tr>\n",
       "  </tbody>\n",
       "</table>\n",
       "</div>"
      ],
      "text/plain": [
       "   doc_id                        p100a          p245a   p260a  \\\n",
       "0       1  Устинова Татьяна Витальевна  Призрак Канта  Москва   \n",
       "1       2                          NaN  Наука и жизнь  Москва   \n",
       "2       3                          NaN  Наука и жизнь     NaN   \n",
       "3       4                          NaN  Наука и жизнь     NaN   \n",
       "4       5                          NaN  Наука и жизнь     NaN   \n",
       "\n",
       "                                  p260b  p260c  \\\n",
       "0                                 Эксмо   2018   \n",
       "1  АНО Редакция журнала «Наука и жизнь»  1938-   \n",
       "2                                   NaN   2018   \n",
       "3                                   NaN   2018   \n",
       "4                                   NaN   2018   \n",
       "\n",
       "                                   p490a  \\\n",
       "0  Татьяна Устинова. Первая среди лучших   \n",
       "1                                    NaN   \n",
       "2                                    NaN   \n",
       "3                                    NaN   \n",
       "4                                    NaN   \n",
       "\n",
       "                                             p650a      p084a p521a  \n",
       "0  Художественная литература ; Российский детектив  84(2Рос)6   16+  \n",
       "1                              Наука. Науковедение         72   12+  \n",
       "2                              Наука. Науковедение         72   12+  \n",
       "3                              Наука. Науковедение         72   12+  \n",
       "4                              Наука. Науковедение         72   12+  "
      ]
     },
     "execution_count": 74,
     "metadata": {},
     "output_type": "execute_result"
    }
   ],
   "source": [
    "df_cat.head()"
   ]
  },
  {
   "cell_type": "code",
   "execution_count": 75,
   "metadata": {},
   "outputs": [],
   "source": [
    "df_cat.columns = [\n",
    "    'ID книги', 'Автор', 'Название', 'Город (место издания)','Издательство', 'Год издания', 'Серия', 'Жанр' , 'Полка', 'Возратные ограничения'\n",
    "]"
   ]
  },
  {
   "cell_type": "code",
   "execution_count": 76,
   "metadata": {},
   "outputs": [
    {
     "data": {
      "text/html": [
       "<div>\n",
       "<style scoped>\n",
       "    .dataframe tbody tr th:only-of-type {\n",
       "        vertical-align: middle;\n",
       "    }\n",
       "\n",
       "    .dataframe tbody tr th {\n",
       "        vertical-align: top;\n",
       "    }\n",
       "\n",
       "    .dataframe thead th {\n",
       "        text-align: right;\n",
       "    }\n",
       "</style>\n",
       "<table border=\"1\" class=\"dataframe\">\n",
       "  <thead>\n",
       "    <tr style=\"text-align: right;\">\n",
       "      <th></th>\n",
       "      <th>ID книги</th>\n",
       "      <th>Автор</th>\n",
       "      <th>Название</th>\n",
       "      <th>Город (место издания)</th>\n",
       "      <th>Издательство</th>\n",
       "      <th>Год издания</th>\n",
       "      <th>Серия</th>\n",
       "      <th>Жанр</th>\n",
       "      <th>Полка</th>\n",
       "      <th>Возратные ограничения</th>\n",
       "    </tr>\n",
       "  </thead>\n",
       "  <tbody>\n",
       "    <tr>\n",
       "      <th>0</th>\n",
       "      <td>1</td>\n",
       "      <td>Устинова Татьяна Витальевна</td>\n",
       "      <td>Призрак Канта</td>\n",
       "      <td>Москва</td>\n",
       "      <td>Эксмо</td>\n",
       "      <td>2018</td>\n",
       "      <td>Татьяна Устинова. Первая среди лучших</td>\n",
       "      <td>Художественная литература ; Российский детектив</td>\n",
       "      <td>84(2Рос)6</td>\n",
       "      <td>16+</td>\n",
       "    </tr>\n",
       "    <tr>\n",
       "      <th>1</th>\n",
       "      <td>2</td>\n",
       "      <td>NaN</td>\n",
       "      <td>Наука и жизнь</td>\n",
       "      <td>Москва</td>\n",
       "      <td>АНО Редакция журнала «Наука и жизнь»</td>\n",
       "      <td>1938-</td>\n",
       "      <td>NaN</td>\n",
       "      <td>Наука. Науковедение</td>\n",
       "      <td>72</td>\n",
       "      <td>12+</td>\n",
       "    </tr>\n",
       "    <tr>\n",
       "      <th>2</th>\n",
       "      <td>3</td>\n",
       "      <td>NaN</td>\n",
       "      <td>Наука и жизнь</td>\n",
       "      <td>NaN</td>\n",
       "      <td>NaN</td>\n",
       "      <td>2018</td>\n",
       "      <td>NaN</td>\n",
       "      <td>Наука. Науковедение</td>\n",
       "      <td>72</td>\n",
       "      <td>12+</td>\n",
       "    </tr>\n",
       "    <tr>\n",
       "      <th>3</th>\n",
       "      <td>4</td>\n",
       "      <td>NaN</td>\n",
       "      <td>Наука и жизнь</td>\n",
       "      <td>NaN</td>\n",
       "      <td>NaN</td>\n",
       "      <td>2018</td>\n",
       "      <td>NaN</td>\n",
       "      <td>Наука. Науковедение</td>\n",
       "      <td>72</td>\n",
       "      <td>12+</td>\n",
       "    </tr>\n",
       "    <tr>\n",
       "      <th>4</th>\n",
       "      <td>5</td>\n",
       "      <td>NaN</td>\n",
       "      <td>Наука и жизнь</td>\n",
       "      <td>NaN</td>\n",
       "      <td>NaN</td>\n",
       "      <td>2018</td>\n",
       "      <td>NaN</td>\n",
       "      <td>Наука. Науковедение</td>\n",
       "      <td>72</td>\n",
       "      <td>12+</td>\n",
       "    </tr>\n",
       "  </tbody>\n",
       "</table>\n",
       "</div>"
      ],
      "text/plain": [
       "   ID книги                        Автор       Название Город (место издания)  \\\n",
       "0         1  Устинова Татьяна Витальевна  Призрак Канта                Москва   \n",
       "1         2                          NaN  Наука и жизнь                Москва   \n",
       "2         3                          NaN  Наука и жизнь                   NaN   \n",
       "3         4                          NaN  Наука и жизнь                   NaN   \n",
       "4         5                          NaN  Наука и жизнь                   NaN   \n",
       "\n",
       "                           Издательство Год издания  \\\n",
       "0                                 Эксмо        2018   \n",
       "1  АНО Редакция журнала «Наука и жизнь»       1938-   \n",
       "2                                   NaN        2018   \n",
       "3                                   NaN        2018   \n",
       "4                                   NaN        2018   \n",
       "\n",
       "                                   Серия  \\\n",
       "0  Татьяна Устинова. Первая среди лучших   \n",
       "1                                    NaN   \n",
       "2                                    NaN   \n",
       "3                                    NaN   \n",
       "4                                    NaN   \n",
       "\n",
       "                                              Жанр      Полка  \\\n",
       "0  Художественная литература ; Российский детектив  84(2Рос)6   \n",
       "1                              Наука. Науковедение         72   \n",
       "2                              Наука. Науковедение         72   \n",
       "3                              Наука. Науковедение         72   \n",
       "4                              Наука. Науковедение         72   \n",
       "\n",
       "  Возратные ограничения  \n",
       "0                   16+  \n",
       "1                   12+  \n",
       "2                   12+  \n",
       "3                   12+  \n",
       "4                   12+  "
      ]
     },
     "execution_count": 76,
     "metadata": {},
     "output_type": "execute_result"
    }
   ],
   "source": [
    "df_cat.head()"
   ]
  },
  {
   "cell_type": "code",
   "execution_count": 77,
   "metadata": {},
   "outputs": [],
   "source": [
    "df_cat.drop(columns=['Город (место издания)', 'Издательство', 'Полка'], inplace=True)"
   ]
  },
  {
   "cell_type": "code",
   "execution_count": 78,
   "metadata": {},
   "outputs": [
    {
     "data": {
      "text/plain": [
       "Художественная литература                                                                                                                                                                     489182\n",
       "История России                                                                                                                                                                                 59370\n",
       "Литература для детей и юношества                                                                                                                                                               22982\n",
       "История и критика литературы России                                                                                                                                                            22501\n",
       "История в целом. Всемирная история                                                                                                                                                             22104\n",
       "                                                                                                                                                                                               ...  \n",
       "Оперный театр ; Литература для детей и юношества ; Познавательная литература для школьников по культуре, филологическим наукам, искусству                                                          1\n",
       "Внешняя политика Российской Федерации ; Мемуары. Воспоминания                                                                                                                                      1\n",
       "Театр ; Театр оперетты, музыкальной комедии, мюзикла                                                                                                                                               1\n",
       "Науки о Земле ; Развивающая и познавательная литература для дошкольников                                                                                                                           1\n",
       "Экономика, управление, бизнес. Экономические науки ; Литература для детей и юношества ; Познавательная литература для школьников по общественным, естественнонаучным и техническим знаниям         1\n",
       "Name: Жанр, Length: 9072, dtype: int64"
      ]
     },
     "execution_count": 78,
     "metadata": {},
     "output_type": "execute_result"
    }
   ],
   "source": [
    "df_cat['Жанр'].value_counts()"
   ]
  },
  {
   "cell_type": "code",
   "execution_count": 80,
   "metadata": {},
   "outputs": [
    {
     "data": {
      "text/plain": [
       "9073"
      ]
     },
     "execution_count": 80,
     "metadata": {},
     "output_type": "execute_result"
    }
   ],
   "source": [
    "len(df_cat['Жанр'].unique())"
   ]
  },
  {
   "cell_type": "code",
   "execution_count": 81,
   "metadata": {},
   "outputs": [
    {
     "data": {
      "text/plain": [
       "80525"
      ]
     },
     "execution_count": 81,
     "metadata": {},
     "output_type": "execute_result"
    }
   ],
   "source": [
    "df_cat['Жанр'].isnull().sum()"
   ]
  },
  {
   "cell_type": "code",
   "execution_count": 82,
   "metadata": {},
   "outputs": [],
   "source": [
    "df_cat.to_csv('data_clean/books_catalogue.csv')"
   ]
  },
  {
   "cell_type": "markdown",
   "metadata": {},
   "source": [
    "#### Sections"
   ]
  },
  {
   "cell_type": "code",
   "execution_count": 83,
   "metadata": {},
   "outputs": [],
   "source": [
    "relations = 'MegaRelation_hackaton.csv'\n",
    "pupil = 'Pupil_hackaton.csv'\n",
    "request = 'request_hackaton.csv'\n",
    "service = 'services_hackaton.csv'"
   ]
  },
  {
   "cell_type": "code",
   "execution_count": 88,
   "metadata": {},
   "outputs": [],
   "source": [
    "df_relations = pd.read_csv(os.path.join(PATH, relations), sep=';')"
   ]
  },
  {
   "cell_type": "code",
   "execution_count": 89,
   "metadata": {},
   "outputs": [
    {
     "data": {
      "text/html": [
       "<div>\n",
       "<style scoped>\n",
       "    .dataframe tbody tr th:only-of-type {\n",
       "        vertical-align: middle;\n",
       "    }\n",
       "\n",
       "    .dataframe tbody tr th {\n",
       "        vertical-align: top;\n",
       "    }\n",
       "\n",
       "    .dataframe thead th {\n",
       "        text-align: right;\n",
       "    }\n",
       "</style>\n",
       "<table border=\"1\" class=\"dataframe\">\n",
       "  <thead>\n",
       "    <tr style=\"text-align: right;\">\n",
       "      <th></th>\n",
       "      <th>id_зачисления</th>\n",
       "      <th>Статус</th>\n",
       "      <th>id_ученика</th>\n",
       "      <th>Дата_создания_записи</th>\n",
       "      <th>id_организации</th>\n",
       "      <th>id_заявления</th>\n",
       "      <th>id_услуги</th>\n",
       "      <th>дата_зачисления</th>\n",
       "      <th>дата_отчисления</th>\n",
       "      <th>причина_перевода</th>\n",
       "      <th>предыдущая_запись_зачисления</th>\n",
       "      <th>следующая_запись_зачисления</th>\n",
       "      <th>Плановая_дата_начала_занятий</th>\n",
       "      <th>Плановая_дата_окончания_занятий</th>\n",
       "    </tr>\n",
       "  </thead>\n",
       "  <tbody>\n",
       "    <tr>\n",
       "      <th>0</th>\n",
       "      <td>1325954</td>\n",
       "      <td>3.0</td>\n",
       "      <td>25969.0</td>\n",
       "      <td>08.06.2015 14:47:19</td>\n",
       "      <td>30</td>\n",
       "      <td>950832.0</td>\n",
       "      <td>39178</td>\n",
       "      <td>08.06.2015 0:00:00</td>\n",
       "      <td>29.02.2016 19:28:12</td>\n",
       "      <td>NaN</td>\n",
       "      <td>NaN</td>\n",
       "      <td>3558114.0</td>\n",
       "      <td>01.09.2014 0:00:00</td>\n",
       "      <td>01.09.2021 0:00:00</td>\n",
       "    </tr>\n",
       "    <tr>\n",
       "      <th>1</th>\n",
       "      <td>2879918</td>\n",
       "      <td>3.0</td>\n",
       "      <td>158129.0</td>\n",
       "      <td>29.10.2015 18:35:21</td>\n",
       "      <td>30</td>\n",
       "      <td>989658.0</td>\n",
       "      <td>39178</td>\n",
       "      <td>01.09.2010 0:00:00</td>\n",
       "      <td>29.02.2016 19:23:59</td>\n",
       "      <td>NaN</td>\n",
       "      <td>NaN</td>\n",
       "      <td>3557885.0</td>\n",
       "      <td>01.09.2014 0:00:00</td>\n",
       "      <td>01.09.2021 0:00:00</td>\n",
       "    </tr>\n",
       "    <tr>\n",
       "      <th>2</th>\n",
       "      <td>2901258</td>\n",
       "      <td>3.0</td>\n",
       "      <td>304476.0</td>\n",
       "      <td>02.11.2015 14:05:56</td>\n",
       "      <td>30</td>\n",
       "      <td>950764.0</td>\n",
       "      <td>39178</td>\n",
       "      <td>09.06.2014 0:00:00</td>\n",
       "      <td>29.02.2016 19:28:11</td>\n",
       "      <td>NaN</td>\n",
       "      <td>NaN</td>\n",
       "      <td>3558103.0</td>\n",
       "      <td>01.09.2014 0:00:00</td>\n",
       "      <td>01.09.2021 0:00:00</td>\n",
       "    </tr>\n",
       "    <tr>\n",
       "      <th>3</th>\n",
       "      <td>2912724</td>\n",
       "      <td>3.0</td>\n",
       "      <td>1139915.0</td>\n",
       "      <td>03.11.2015 14:29:27</td>\n",
       "      <td>30</td>\n",
       "      <td>950786.0</td>\n",
       "      <td>39178</td>\n",
       "      <td>09.06.2014 0:00:00</td>\n",
       "      <td>29.02.2016 19:28:11</td>\n",
       "      <td>NaN</td>\n",
       "      <td>NaN</td>\n",
       "      <td>3558105.0</td>\n",
       "      <td>01.09.2014 0:00:00</td>\n",
       "      <td>01.09.2021 0:00:00</td>\n",
       "    </tr>\n",
       "    <tr>\n",
       "      <th>4</th>\n",
       "      <td>2912819</td>\n",
       "      <td>3.0</td>\n",
       "      <td>298767.0</td>\n",
       "      <td>03.11.2015 14:34:15</td>\n",
       "      <td>30</td>\n",
       "      <td>950799.0</td>\n",
       "      <td>39178</td>\n",
       "      <td>09.06.2014 0:00:00</td>\n",
       "      <td>29.02.2016 19:28:11</td>\n",
       "      <td>NaN</td>\n",
       "      <td>NaN</td>\n",
       "      <td>3558106.0</td>\n",
       "      <td>01.09.2014 0:00:00</td>\n",
       "      <td>01.09.2021 0:00:00</td>\n",
       "    </tr>\n",
       "  </tbody>\n",
       "</table>\n",
       "</div>"
      ],
      "text/plain": [
       "   id_зачисления  Статус  id_ученика Дата_создания_записи  id_организации  \\\n",
       "0        1325954     3.0     25969.0  08.06.2015 14:47:19              30   \n",
       "1        2879918     3.0    158129.0  29.10.2015 18:35:21              30   \n",
       "2        2901258     3.0    304476.0  02.11.2015 14:05:56              30   \n",
       "3        2912724     3.0   1139915.0  03.11.2015 14:29:27              30   \n",
       "4        2912819     3.0    298767.0  03.11.2015 14:34:15              30   \n",
       "\n",
       "   id_заявления  id_услуги     дата_зачисления      дата_отчисления  \\\n",
       "0      950832.0      39178  08.06.2015 0:00:00  29.02.2016 19:28:12   \n",
       "1      989658.0      39178  01.09.2010 0:00:00  29.02.2016 19:23:59   \n",
       "2      950764.0      39178  09.06.2014 0:00:00  29.02.2016 19:28:11   \n",
       "3      950786.0      39178  09.06.2014 0:00:00  29.02.2016 19:28:11   \n",
       "4      950799.0      39178  09.06.2014 0:00:00  29.02.2016 19:28:11   \n",
       "\n",
       "   причина_перевода  предыдущая_запись_зачисления  \\\n",
       "0               NaN                           NaN   \n",
       "1               NaN                           NaN   \n",
       "2               NaN                           NaN   \n",
       "3               NaN                           NaN   \n",
       "4               NaN                           NaN   \n",
       "\n",
       "   следующая_запись_зачисления Плановая_дата_начала_занятий  \\\n",
       "0                    3558114.0           01.09.2014 0:00:00   \n",
       "1                    3557885.0           01.09.2014 0:00:00   \n",
       "2                    3558103.0           01.09.2014 0:00:00   \n",
       "3                    3558105.0           01.09.2014 0:00:00   \n",
       "4                    3558106.0           01.09.2014 0:00:00   \n",
       "\n",
       "  Плановая_дата_окончания_занятий  \n",
       "0              01.09.2021 0:00:00  \n",
       "1              01.09.2021 0:00:00  \n",
       "2              01.09.2021 0:00:00  \n",
       "3              01.09.2021 0:00:00  \n",
       "4              01.09.2021 0:00:00  "
      ]
     },
     "execution_count": 89,
     "metadata": {},
     "output_type": "execute_result"
    }
   ],
   "source": [
    "df_relations.head()"
   ]
  },
  {
   "cell_type": "code",
   "execution_count": 90,
   "metadata": {},
   "outputs": [],
   "source": [
    "df_relations.drop(columns=['id_организации', 'дата_отчисления', 'предыдущая_запись_зачисления',\n",
    "                          'следующая_запись_зачисления', 'Плановая_дата_начала_занятий',\n",
    "                          'Плановая_дата_окончания_занятий'], inplace=True)"
   ]
  },
  {
   "cell_type": "code",
   "execution_count": 91,
   "metadata": {},
   "outputs": [],
   "source": [
    "df_relations.to_csv('data_clean/sections_relations.csv')"
   ]
  },
  {
   "cell_type": "code",
   "execution_count": 92,
   "metadata": {},
   "outputs": [],
   "source": [
    "df_services = pd.read_csv(os.path.join(PATH, service), sep=';')"
   ]
  },
  {
   "cell_type": "code",
   "execution_count": 93,
   "metadata": {},
   "outputs": [
    {
     "data": {
      "text/html": [
       "<div>\n",
       "<style scoped>\n",
       "    .dataframe tbody tr th:only-of-type {\n",
       "        vertical-align: middle;\n",
       "    }\n",
       "\n",
       "    .dataframe tbody tr th {\n",
       "        vertical-align: top;\n",
       "    }\n",
       "\n",
       "    .dataframe thead th {\n",
       "        text-align: right;\n",
       "    }\n",
       "</style>\n",
       "<table border=\"1\" class=\"dataframe\">\n",
       "  <thead>\n",
       "    <tr style=\"text-align: right;\">\n",
       "      <th></th>\n",
       "      <th>id_услуги</th>\n",
       "      <th>Тип_финансирования</th>\n",
       "      <th>Классификатор_услуги</th>\n",
       "      <th>id_организации</th>\n",
       "      <th>Тип_расписания</th>\n",
       "      <th>Наименование_услуги</th>\n",
       "      <th>Дата_создания</th>\n",
       "      <th>длительность_обучения</th>\n",
       "      <th>единица_длительности</th>\n",
       "    </tr>\n",
       "  </thead>\n",
       "  <tbody>\n",
       "    <tr>\n",
       "      <th>0</th>\n",
       "      <td>39178</td>\n",
       "      <td>бесплатно</td>\n",
       "      <td>3000001</td>\n",
       "      <td>30</td>\n",
       "      <td>Индивидуальное</td>\n",
       "      <td>Архитектура</td>\n",
       "      <td>17.07.2013 12:50:32</td>\n",
       "      <td>7,0000</td>\n",
       "      <td>лет</td>\n",
       "    </tr>\n",
       "    <tr>\n",
       "      <th>1</th>\n",
       "      <td>39181</td>\n",
       "      <td>бесплатно</td>\n",
       "      <td>3000001</td>\n",
       "      <td>30</td>\n",
       "      <td>Индивидуальное</td>\n",
       "      <td>Архитектура</td>\n",
       "      <td>17.07.2013 13:04:41</td>\n",
       "      <td>7,0000</td>\n",
       "      <td>лет</td>\n",
       "    </tr>\n",
       "    <tr>\n",
       "      <th>2</th>\n",
       "      <td>212072</td>\n",
       "      <td>бесплатно</td>\n",
       "      <td>3000001</td>\n",
       "      <td>30</td>\n",
       "      <td>Индивидуальное</td>\n",
       "      <td>Архитектура</td>\n",
       "      <td>27.10.2015 15:59:48</td>\n",
       "      <td>7,0000</td>\n",
       "      <td>лет</td>\n",
       "    </tr>\n",
       "    <tr>\n",
       "      <th>3</th>\n",
       "      <td>212517</td>\n",
       "      <td>бесплатно</td>\n",
       "      <td>3000001</td>\n",
       "      <td>30</td>\n",
       "      <td>Индивидуальное</td>\n",
       "      <td>Архитектура</td>\n",
       "      <td>29.10.2015 18:45:49</td>\n",
       "      <td>7,0000</td>\n",
       "      <td>лет</td>\n",
       "    </tr>\n",
       "    <tr>\n",
       "      <th>4</th>\n",
       "      <td>39913</td>\n",
       "      <td>бесплатно</td>\n",
       "      <td>3000003</td>\n",
       "      <td>45</td>\n",
       "      <td>Индивидуальное</td>\n",
       "      <td>Декоративно-прикладное искусство</td>\n",
       "      <td>17.07.2013 20:35:28</td>\n",
       "      <td>7,0000</td>\n",
       "      <td>лет</td>\n",
       "    </tr>\n",
       "  </tbody>\n",
       "</table>\n",
       "</div>"
      ],
      "text/plain": [
       "   id_услуги Тип_финансирования  Классификатор_услуги  id_организации  \\\n",
       "0      39178          бесплатно               3000001              30   \n",
       "1      39181          бесплатно               3000001              30   \n",
       "2     212072          бесплатно               3000001              30   \n",
       "3     212517          бесплатно               3000001              30   \n",
       "4      39913          бесплатно               3000003              45   \n",
       "\n",
       "   Тип_расписания               Наименование_услуги        Дата_создания  \\\n",
       "0  Индивидуальное                       Архитектура  17.07.2013 12:50:32   \n",
       "1  Индивидуальное                       Архитектура  17.07.2013 13:04:41   \n",
       "2  Индивидуальное                       Архитектура  27.10.2015 15:59:48   \n",
       "3  Индивидуальное                       Архитектура  29.10.2015 18:45:49   \n",
       "4  Индивидуальное  Декоративно-прикладное искусство  17.07.2013 20:35:28   \n",
       "\n",
       "  длительность_обучения единица_длительности  \n",
       "0                7,0000                  лет  \n",
       "1                7,0000                  лет  \n",
       "2                7,0000                  лет  \n",
       "3                7,0000                  лет  \n",
       "4                7,0000                  лет  "
      ]
     },
     "execution_count": 93,
     "metadata": {},
     "output_type": "execute_result"
    }
   ],
   "source": [
    "df_services.head()"
   ]
  },
  {
   "cell_type": "code",
   "execution_count": 96,
   "metadata": {},
   "outputs": [],
   "source": [
    "df_services.drop(columns=['Классификатор_услуги', 'id_организации'], inplace=True)"
   ]
  },
  {
   "cell_type": "code",
   "execution_count": 97,
   "metadata": {},
   "outputs": [],
   "source": [
    "df_services.to_csv('data_clean/sections_services.csv')"
   ]
  },
  {
   "cell_type": "markdown",
   "metadata": {},
   "source": [
    "#### Activities"
   ]
  },
  {
   "cell_type": "code",
   "execution_count": 99,
   "metadata": {},
   "outputs": [],
   "source": [
    "df_activities = pd.read_excel(os.path.join(PATH, 'Мероприятия.xlsx'), usecols=(1,7,8,10,18,23,24))"
   ]
  },
  {
   "cell_type": "code",
   "execution_count": 100,
   "metadata": {},
   "outputs": [
    {
     "data": {
      "text/html": [
       "<div>\n",
       "<style scoped>\n",
       "    .dataframe tbody tr th:only-of-type {\n",
       "        vertical-align: middle;\n",
       "    }\n",
       "\n",
       "    .dataframe tbody tr th {\n",
       "        vertical-align: top;\n",
       "    }\n",
       "\n",
       "    .dataframe thead th {\n",
       "        text-align: right;\n",
       "    }\n",
       "</style>\n",
       "<table border=\"1\" class=\"dataframe\">\n",
       "  <thead>\n",
       "    <tr style=\"text-align: right;\">\n",
       "      <th></th>\n",
       "      <th>Название мероприятия</th>\n",
       "      <th>Тип мероприятия</th>\n",
       "      <th>Направленность мероприятия</th>\n",
       "      <th>Наименование праздника или события</th>\n",
       "      <th>Округ</th>\n",
       "      <th>Возрастная категория</th>\n",
       "      <th>Целевая аудитория</th>\n",
       "    </tr>\n",
       "  </thead>\n",
       "  <tbody>\n",
       "    <tr>\n",
       "      <th>0</th>\n",
       "      <td>Фестивлаь современных молодежных уличных культ...</td>\n",
       "      <td>фестиваль</td>\n",
       "      <td>культурно-досуговое</td>\n",
       "      <td>NaN</td>\n",
       "      <td>NaN</td>\n",
       "      <td>от 20 до 40</td>\n",
       "      <td>NaN</td>\n",
       "    </tr>\n",
       "    <tr>\n",
       "      <th>1</th>\n",
       "      <td>Танцевальный вечер \"Ретро\" в честь Дня Победы ...</td>\n",
       "      <td>танцевальный вечер, бал</td>\n",
       "      <td>патриотическое</td>\n",
       "      <td>9 мая. День Победы</td>\n",
       "      <td>Южный административный округ</td>\n",
       "      <td>от 40 до 85</td>\n",
       "      <td>работающая молодежь, взрослые, пенсионеры</td>\n",
       "    </tr>\n",
       "    <tr>\n",
       "      <th>2</th>\n",
       "      <td>Врасплох</td>\n",
       "      <td>выставка</td>\n",
       "      <td>антитеррор</td>\n",
       "      <td>NaN</td>\n",
       "      <td>Южный административный округ</td>\n",
       "      <td>от 16 до 100</td>\n",
       "      <td>школьники, работающая молодежь, студенческая м...</td>\n",
       "    </tr>\n",
       "    <tr>\n",
       "      <th>3</th>\n",
       "      <td>Праздник Новогодней елки. Новогодний концерт в...</td>\n",
       "      <td>концерт, музыкальное представление</td>\n",
       "      <td>культурно-досуговое</td>\n",
       "      <td>1 января. Новый год</td>\n",
       "      <td>NaN</td>\n",
       "      <td>от 5 до 14</td>\n",
       "      <td>дети дошкольного возраста, школьники</td>\n",
       "    </tr>\n",
       "    <tr>\n",
       "      <th>4</th>\n",
       "      <td>Выставка к Рождеству \"Сувенир Года\"</td>\n",
       "      <td>выставка</td>\n",
       "      <td>культурно-досуговое</td>\n",
       "      <td>1 января. Новый год</td>\n",
       "      <td>Южный административный округ</td>\n",
       "      <td>от 15 до 80</td>\n",
       "      <td>дети дошкольного возраста, школьники, работающ...</td>\n",
       "    </tr>\n",
       "  </tbody>\n",
       "</table>\n",
       "</div>"
      ],
      "text/plain": [
       "                                Название мероприятия  \\\n",
       "0  Фестивлаь современных молодежных уличных культ...   \n",
       "1  Танцевальный вечер \"Ретро\" в честь Дня Победы ...   \n",
       "2                                           Врасплох   \n",
       "3  Праздник Новогодней елки. Новогодний концерт в...   \n",
       "4                Выставка к Рождеству \"Сувенир Года\"   \n",
       "\n",
       "                      Тип мероприятия Направленность мероприятия  \\\n",
       "0                           фестиваль        культурно-досуговое   \n",
       "1             танцевальный вечер, бал             патриотическое   \n",
       "2                            выставка                 антитеррор   \n",
       "3  концерт, музыкальное представление        культурно-досуговое   \n",
       "4                            выставка        культурно-досуговое   \n",
       "\n",
       "  Наименование праздника или события                         Округ  \\\n",
       "0                                NaN                           NaN   \n",
       "1                 9 мая. День Победы  Южный административный округ   \n",
       "2                                NaN  Южный административный округ   \n",
       "3                1 января. Новый год                           NaN   \n",
       "4                1 января. Новый год  Южный административный округ   \n",
       "\n",
       "  Возрастная категория                                  Целевая аудитория  \n",
       "0          от 20 до 40                                                NaN  \n",
       "1          от 40 до 85          работающая молодежь, взрослые, пенсионеры  \n",
       "2         от 16 до 100  школьники, работающая молодежь, студенческая м...  \n",
       "3           от 5 до 14               дети дошкольного возраста, школьники  \n",
       "4          от 15 до 80  дети дошкольного возраста, школьники, работающ...  "
      ]
     },
     "execution_count": 100,
     "metadata": {},
     "output_type": "execute_result"
    }
   ],
   "source": [
    "df_activities.head()"
   ]
  },
  {
   "cell_type": "code",
   "execution_count": null,
   "metadata": {},
   "outputs": [],
   "source": [
    "df_activities.to_csv('data_clean/activities_services.csv')"
   ]
  },
  {
   "cell_type": "markdown",
   "metadata": {},
   "source": [
    "#### Check & Validate & Wrangle data"
   ]
  },
  {
   "cell_type": "markdown",
   "metadata": {},
   "source": [
    "1. Check relevant columns\n",
    "2. Check na, fullfill or remove NA\n",
    "3. Check type and format\n",
    "4. Build up initial hypothesises regarding data (groupby/pivot for better understanding)\n",
    "5. Check for duplicates\n",
    "6. Check for outliers\n",
    "7. Reingeneer features on the spot if applicable\n",
    "8. Remove trash\n",
    "9. Define merging keys"
   ]
  },
  {
   "cell_type": "markdown",
   "metadata": {},
   "source": [
    "#### Merging data"
   ]
  },
  {
   "cell_type": "code",
   "execution_count": null,
   "metadata": {},
   "outputs": [],
   "source": [
    "# df = df.merge(df1, how='left', left_on='', right_on='', suffixes=('_x', '_y'), indicator=True)"
   ]
  },
  {
   "cell_type": "code",
   "execution_count": null,
   "metadata": {},
   "outputs": [],
   "source": []
  },
  {
   "cell_type": "markdown",
   "metadata": {},
   "source": [
    "#### Feature Engineering"
   ]
  },
  {
   "cell_type": "markdown",
   "metadata": {},
   "source": [
    "1. Define which features may be relevant\n",
    "2. Define dtypes\n",
    "3. Which ones can be turned into dummies\n",
    "4. Which ones can be removed\n",
    "5. Which ones can be turned into categorical (bins)\n",
    "6. Which ones needed to be newly created/modified\n",
    "7. Is clustering or feature selection required?\n",
    "8. ..."
   ]
  },
  {
   "cell_type": "code",
   "execution_count": null,
   "metadata": {},
   "outputs": [],
   "source": []
  },
  {
   "cell_type": "markdown",
   "metadata": {},
   "source": [
    "#### Final data look-up"
   ]
  },
  {
   "cell_type": "code",
   "execution_count": null,
   "metadata": {},
   "outputs": [],
   "source": []
  },
  {
   "cell_type": "code",
   "execution_count": null,
   "metadata": {},
   "outputs": [],
   "source": [
    "# df_merged.to_csv('../data_algo/df_merged.csv')"
   ]
  }
 ],
 "metadata": {
  "kernelspec": {
   "display_name": "Python 3",
   "language": "python",
   "name": "python3"
  },
  "language_info": {
   "codemirror_mode": {
    "name": "ipython",
    "version": 3
   },
   "file_extension": ".py",
   "mimetype": "text/x-python",
   "name": "python",
   "nbconvert_exporter": "python",
   "pygments_lexer": "ipython3",
   "version": "3.7.9"
  }
 },
 "nbformat": 4,
 "nbformat_minor": 4
}
