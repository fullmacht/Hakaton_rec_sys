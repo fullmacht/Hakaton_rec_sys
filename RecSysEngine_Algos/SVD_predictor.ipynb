{
 "cells": [
  {
   "cell_type": "code",
   "execution_count": 1,
   "metadata": {},
   "outputs": [],
   "source": [
    "import pandas as pd\n",
    "import numpy as np\n",
    "import os"
   ]
  },
  {
   "cell_type": "code",
   "execution_count": 2,
   "metadata": {},
   "outputs": [],
   "source": [
    "from sklearn.decomposition import TruncatedSVD\n",
    "from scipy.sparse import csr_matrix\n",
    "import numpy as np"
   ]
  },
  {
   "cell_type": "markdown",
   "metadata": {},
   "source": [
    "#### Read the file"
   ]
  },
  {
   "cell_type": "code",
   "execution_count": 3,
   "metadata": {},
   "outputs": [
    {
     "name": "stderr",
     "output_type": "stream",
     "text": [
      "c:\\users\\vpoletae\\appdata\\local\\continuum\\anaconda3\\envs\\mytfenv\\lib\\site-packages\\numpy\\lib\\arraysetops.py:580: FutureWarning: elementwise comparison failed; returning scalar instead, but in the future will perform elementwise comparison\n",
      "  mask |= (ar1 == a)\n"
     ]
    }
   ],
   "source": [
    "books_engineered = pd.read_csv('data_algo/books_engineered.csv', index_col=0)"
   ]
  },
  {
   "cell_type": "code",
   "execution_count": 4,
   "metadata": {},
   "outputs": [],
   "source": [
    "reader_clusters = books_engineered.copy()"
   ]
  },
  {
   "cell_type": "code",
   "execution_count": 5,
   "metadata": {},
   "outputs": [],
   "source": [
    "reader_clusters = reader_clusters[reader_clusters['id_book'].notna() == True]"
   ]
  },
  {
   "cell_type": "code",
   "execution_count": 6,
   "metadata": {},
   "outputs": [],
   "source": [
    "reader_clusters['reader_book_id'] = reader_clusters['id_reader'].astype('str') + reader_clusters['id_book'].astype('str')"
   ]
  },
  {
   "cell_type": "code",
   "execution_count": 7,
   "metadata": {},
   "outputs": [],
   "source": [
    "reader_clusters.drop_duplicates(['reader_book_id'], inplace=True)"
   ]
  },
  {
   "cell_type": "code",
   "execution_count": 8,
   "metadata": {},
   "outputs": [
    {
     "data": {
      "text/html": [
       "<div>\n",
       "<style scoped>\n",
       "    .dataframe tbody tr th:only-of-type {\n",
       "        vertical-align: middle;\n",
       "    }\n",
       "\n",
       "    .dataframe tbody tr th {\n",
       "        vertical-align: top;\n",
       "    }\n",
       "\n",
       "    .dataframe thead th {\n",
       "        text-align: right;\n",
       "    }\n",
       "</style>\n",
       "<table border=\"1\" class=\"dataframe\">\n",
       "  <thead>\n",
       "    <tr style=\"text-align: right;\">\n",
       "      <th></th>\n",
       "      <th>id_issue</th>\n",
       "      <th>id_reader</th>\n",
       "      <th>id_book</th>\n",
       "      <th>author</th>\n",
       "      <th>name</th>\n",
       "      <th>reader_age</th>\n",
       "      <th>genre</th>\n",
       "      <th>is_novice</th>\n",
       "      <th>is_old</th>\n",
       "      <th>is_series</th>\n",
       "      <th>is_age_cencored</th>\n",
       "      <th>is_18_cencored</th>\n",
       "      <th>reader_book_id</th>\n",
       "    </tr>\n",
       "  </thead>\n",
       "  <tbody>\n",
       "    <tr>\n",
       "      <th>0</th>\n",
       "      <td>1</td>\n",
       "      <td>179</td>\n",
       "      <td>5190.0</td>\n",
       "      <td>Семенова Мария Васильевна</td>\n",
       "      <td>Год Людоеда</td>\n",
       "      <td>30.0</td>\n",
       "      <td>russian_fiction</td>\n",
       "      <td>N</td>\n",
       "      <td>N</td>\n",
       "      <td>N</td>\n",
       "      <td>N</td>\n",
       "      <td>N</td>\n",
       "      <td>1795190.0</td>\n",
       "    </tr>\n",
       "    <tr>\n",
       "      <th>1</th>\n",
       "      <td>2</td>\n",
       "      <td>179</td>\n",
       "      <td>5185.0</td>\n",
       "      <td>NaN</td>\n",
       "      <td>Сказки о солдате</td>\n",
       "      <td>30.0</td>\n",
       "      <td>poetry_folklor</td>\n",
       "      <td>N</td>\n",
       "      <td>N</td>\n",
       "      <td>Y</td>\n",
       "      <td>N</td>\n",
       "      <td>N</td>\n",
       "      <td>1795185.0</td>\n",
       "    </tr>\n",
       "    <tr>\n",
       "      <th>7</th>\n",
       "      <td>8</td>\n",
       "      <td>163</td>\n",
       "      <td>5190.0</td>\n",
       "      <td>Семенова Мария Васильевна</td>\n",
       "      <td>Год Людоеда</td>\n",
       "      <td>38.0</td>\n",
       "      <td>russian_fiction</td>\n",
       "      <td>N</td>\n",
       "      <td>N</td>\n",
       "      <td>N</td>\n",
       "      <td>N</td>\n",
       "      <td>N</td>\n",
       "      <td>1635190.0</td>\n",
       "    </tr>\n",
       "    <tr>\n",
       "      <th>9</th>\n",
       "      <td>10</td>\n",
       "      <td>232</td>\n",
       "      <td>5456.0</td>\n",
       "      <td>Андреева Наталья Вячеславовна</td>\n",
       "      <td>Москва не принимает</td>\n",
       "      <td>80.0</td>\n",
       "      <td>russian_fiction</td>\n",
       "      <td>N</td>\n",
       "      <td>N</td>\n",
       "      <td>Y</td>\n",
       "      <td>N</td>\n",
       "      <td>N</td>\n",
       "      <td>2325456.0</td>\n",
       "    </tr>\n",
       "    <tr>\n",
       "      <th>10</th>\n",
       "      <td>11</td>\n",
       "      <td>232</td>\n",
       "      <td>5324.0</td>\n",
       "      <td>Акунин Борис</td>\n",
       "      <td>Пелагия и белый бульдог</td>\n",
       "      <td>80.0</td>\n",
       "      <td>russian_fiction</td>\n",
       "      <td>N</td>\n",
       "      <td>N</td>\n",
       "      <td>Y</td>\n",
       "      <td>N</td>\n",
       "      <td>N</td>\n",
       "      <td>2325324.0</td>\n",
       "    </tr>\n",
       "  </tbody>\n",
       "</table>\n",
       "</div>"
      ],
      "text/plain": [
       "    id_issue  id_reader  id_book                         author  \\\n",
       "0          1        179   5190.0      Семенова Мария Васильевна   \n",
       "1          2        179   5185.0                            NaN   \n",
       "7          8        163   5190.0      Семенова Мария Васильевна   \n",
       "9         10        232   5456.0  Андреева Наталья Вячеславовна   \n",
       "10        11        232   5324.0                   Акунин Борис   \n",
       "\n",
       "                       name  reader_age            genre is_novice is_old  \\\n",
       "0               Год Людоеда        30.0  russian_fiction         N      N   \n",
       "1          Сказки о солдате        30.0   poetry_folklor         N      N   \n",
       "7               Год Людоеда        38.0  russian_fiction         N      N   \n",
       "9       Москва не принимает        80.0  russian_fiction         N      N   \n",
       "10  Пелагия и белый бульдог        80.0  russian_fiction         N      N   \n",
       "\n",
       "   is_series is_age_cencored is_18_cencored reader_book_id  \n",
       "0          N               N              N      1795190.0  \n",
       "1          Y               N              N      1795185.0  \n",
       "7          N               N              N      1635190.0  \n",
       "9          Y               N              N      2325456.0  \n",
       "10         Y               N              N      2325324.0  "
      ]
     },
     "execution_count": 8,
     "metadata": {},
     "output_type": "execute_result"
    }
   ],
   "source": [
    "reader_clusters.head()"
   ]
  },
  {
   "cell_type": "code",
   "execution_count": 9,
   "metadata": {},
   "outputs": [],
   "source": [
    "reader_book = reader_clusters[['id_reader', 'id_book']]"
   ]
  },
  {
   "cell_type": "markdown",
   "metadata": {},
   "source": [
    "#### Adjust if necessary"
   ]
  },
  {
   "cell_type": "code",
   "execution_count": 10,
   "metadata": {},
   "outputs": [
    {
     "name": "stderr",
     "output_type": "stream",
     "text": [
      "c:\\users\\vpoletae\\appdata\\local\\continuum\\anaconda3\\envs\\mytfenv\\lib\\site-packages\\ipykernel_launcher.py:1: SettingWithCopyWarning: \n",
      "A value is trying to be set on a copy of a slice from a DataFrame.\n",
      "Try using .loc[row_indexer,col_indexer] = value instead\n",
      "\n",
      "See the caveats in the documentation: http://pandas.pydata.org/pandas-docs/stable/user_guide/indexing.html#returning-a-view-versus-a-copy\n",
      "  \"\"\"Entry point for launching an IPython kernel.\n",
      "c:\\users\\vpoletae\\appdata\\local\\continuum\\anaconda3\\envs\\mytfenv\\lib\\site-packages\\ipykernel_launcher.py:2: SettingWithCopyWarning: \n",
      "A value is trying to be set on a copy of a slice from a DataFrame.\n",
      "Try using .loc[row_indexer,col_indexer] = value instead\n",
      "\n",
      "See the caveats in the documentation: http://pandas.pydata.org/pandas-docs/stable/user_guide/indexing.html#returning-a-view-versus-a-copy\n",
      "  \n"
     ]
    }
   ],
   "source": [
    "reader_book['id_reader'] = reader_book['id_reader'].astype(int)\n",
    "reader_book['id_book'] = reader_book['id_book'].astype(int)"
   ]
  },
  {
   "cell_type": "code",
   "execution_count": 11,
   "metadata": {},
   "outputs": [],
   "source": [
    "user_map = dict()\n",
    "back_user_map = dict()\n",
    "counter = 0\n",
    "for user in reader_book['id_reader'].unique().tolist():\n",
    "    user_map[user] = counter\n",
    "    back_user_map[counter] = user\n",
    "    counter += 1"
   ]
  },
  {
   "cell_type": "code",
   "execution_count": 12,
   "metadata": {},
   "outputs": [],
   "source": [
    "items_map = dict()\n",
    "back_items_map = dict()\n",
    "counter = 0\n",
    "for item in reader_book['id_book'].unique().tolist():\n",
    "    items_map[item] = counter\n",
    "    back_items_map[counter] = item\n",
    "    counter += 1"
   ]
  },
  {
   "cell_type": "code",
   "execution_count": 13,
   "metadata": {},
   "outputs": [
    {
     "name": "stdout",
     "output_type": "stream",
     "text": [
      "Wall time: 9.65 s\n"
     ]
    }
   ],
   "source": [
    "%%time\n",
    "rows = []\n",
    "cols = []\n",
    "data = []\n",
    "for row in reader_book.itertuples():\n",
    "    rows.append(user_map[row[1]]) #! check\n",
    "    cols.append(items_map[row[2]])\n",
    "    data.append(1)"
   ]
  },
  {
   "cell_type": "code",
   "execution_count": 14,
   "metadata": {},
   "outputs": [],
   "source": [
    "row = np.array(rows)\n",
    "col = np.array(cols)\n",
    "data = np.array(data)\n",
    "user_item_matrix = csr_matrix((data, (row, col)), shape=(len(user_map.keys()), len(items_map.keys())))"
   ]
  },
  {
   "cell_type": "markdown",
   "metadata": {},
   "source": [
    "#### Apply the model"
   ]
  },
  {
   "cell_type": "code",
   "execution_count": null,
   "metadata": {},
   "outputs": [],
   "source": [
    "%%time\n",
    "model = TruncatedSVD(n_components = 2000, algorithm='randomized', n_iter=5)\n",
    "model.fit(user_item_matrix)"
   ]
  },
  {
   "cell_type": "code",
   "execution_count": null,
   "metadata": {},
   "outputs": [],
   "source": [
    "model.explained_variance_ratio_.sum()"
   ]
  },
  {
   "cell_type": "code",
   "execution_count": null,
   "metadata": {},
   "outputs": [],
   "source": [
    "def predict_services(user_id, top_n): \n",
    "    user_interactions = user_item_matrix.getrow(user_map[user_id])\n",
    "    user_low_dimensions = model.transform(user_interactions)\n",
    "    return get_recommendations(user_low_dimensions, user_interactions, user_id, top_n)"
   ]
  },
  {
   "cell_type": "code",
   "execution_count": null,
   "metadata": {},
   "outputs": [],
   "source": [
    "def get_recommendations(dimensions, interactions, id_, top_n=1):\n",
    "    recommendations = []\n",
    "    predictions = model.inverse_transform(dimensions)[0]\n",
    "    for index in reversed(np.argsort(predictions)):\n",
    "        try:\n",
    "            if interactions[0, index] == 0:\n",
    "                recommendations.append((id_, back_items_map[index]))\n",
    "        except IndexError:\n",
    "            pass\n",
    "\n",
    "    return recommendations[:top_n]"
   ]
  },
  {
   "cell_type": "code",
   "execution_count": null,
   "metadata": {},
   "outputs": [],
   "source": []
  }
 ],
 "metadata": {
  "kernelspec": {
   "display_name": "Python 3",
   "language": "python",
   "name": "python3"
  },
  "language_info": {
   "codemirror_mode": {
    "name": "ipython",
    "version": 3
   },
   "file_extension": ".py",
   "mimetype": "text/x-python",
   "name": "python",
   "nbconvert_exporter": "python",
   "pygments_lexer": "ipython3",
   "version": "3.7.9"
  }
 },
 "nbformat": 4,
 "nbformat_minor": 4
}
