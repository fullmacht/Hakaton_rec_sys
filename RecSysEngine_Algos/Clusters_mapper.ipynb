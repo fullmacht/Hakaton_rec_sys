{
 "cells": [
  {
   "cell_type": "code",
   "execution_count": 1,
   "metadata": {},
   "outputs": [],
   "source": [
    "import pickle"
   ]
  },
  {
   "cell_type": "code",
   "execution_count": 2,
   "metadata": {},
   "outputs": [],
   "source": [
    "mapper = {\n",
    "    'books':{\n",
    "         'history_hronicles':['history', 'history'],\n",
    "         'educational_school':['add_edu', 'education'],\n",
    "         'cinema_theatre_art':['theatre_cinema','cinema_theatre'],\n",
    "         'foreign_lang':['languages','foreign_languages'],\n",
    "         'biography':[ '', 'biography'],\n",
    "         'cinema_theatre_art':['music_singing_vocal', 'music'],\n",
    "         'poetry_folklor':['',  'folklor'],\n",
    "         'hobbies_home_other':['hobbies'],\n",
    "    },\n",
    "    \n",
    "    'courses':{\n",
    "         'history':['history_hronicles',  'history'],\n",
    "         'add_edu':['educational_school', 'education'],\n",
    "         'theatre_cinema':['cinema_theatre_art', 'cinema_theatre'],\n",
    "         'languages':['foreign_lang', 'foreign_languages'],\n",
    "         'music_singing_vocal':['cinema_theatre_art', 'music'],\n",
    "         'music_instruments':['', 'music_instruments'],\n",
    "         'dances_theatre':['', 'dance'],\n",
    "         'art_drawing':['', 'art_drawing'],\n",
    "         'sport_fitness':['', 'sport_competition_game'],\n",
    "         'hobbies':['hobbies_home_other', ''],\n",
    "         'hobbies_craftery':['hobbies_home_other', ''],\n",
    "    },\n",
    "}"
   ]
  },
  {
   "cell_type": "code",
   "execution_count": 3,
   "metadata": {},
   "outputs": [],
   "source": [
    "with open('important_backlog/clusters_mapper.pickle', 'wb') as f:\n",
    "    pickle.dump(mapper, f)"
   ]
  },
  {
   "cell_type": "code",
   "execution_count": null,
   "metadata": {},
   "outputs": [],
   "source": []
  }
 ],
 "metadata": {
  "kernelspec": {
   "display_name": "Python 3",
   "language": "python",
   "name": "python3"
  },
  "language_info": {
   "codemirror_mode": {
    "name": "ipython",
    "version": 3
   },
   "file_extension": ".py",
   "mimetype": "text/x-python",
   "name": "python",
   "nbconvert_exporter": "python",
   "pygments_lexer": "ipython3",
   "version": "3.7.4"
  }
 },
 "nbformat": 4,
 "nbformat_minor": 4
}
